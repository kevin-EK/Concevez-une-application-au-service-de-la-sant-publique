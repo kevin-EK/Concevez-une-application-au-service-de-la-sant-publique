{
 "cells": [
  {
   "cell_type": "markdown",
   "id": "83003fbf",
   "metadata": {},
   "source": [
    "# P3 Concevez une application au service de la santé publique "
   ]
  },
  {
   "cell_type": "markdown",
   "id": "9588c526",
   "metadata": {},
   "source": [
    "L'agence <span style='color:blue'> <a href = \"http://www.santepubliquefrance.fr/\">\"*Santé publique France*\" </a></span> a lancé un appel à projets pour trouver des idées innovantes d’applications en lien avec l'alimentation. <br>\n",
    "Vous souhaitez y participer et proposer une idée d’application."
   ]
  },
  {
   "cell_type": "markdown",
   "id": "bbdaff0a",
   "metadata": {},
   "source": [
    "Le jeu de données <font color='orange'>Open Food Facts</font> est disponible sur le <a href = \"https://world.openfoodfacts.org/\">site officiel</a> (ou disponible à <a href =\"https://s3-eu-west-1.amazonaws.com/static.oc-static.com/prod/courses/files/parcours-data-scientist/P2/fr.openfoodfacts.org.products.csv.zip\">ce lien</a> en téléchargement).\n",
    "<br>\n",
    "Les variables sont définies à <a href = \"https://world.openfoodfacts.org/data/data-fields.txt\">cette adresse</a>"
   ]
  },
  {
   "cell_type": "markdown",
   "id": "1d8b61e7",
   "metadata": {},
   "source": [
    "Les champs sont séparés en quatre sections :\n",
    "\n",
    "- Les informations générales sur la fiche du produit : nom, date de modification, etc.\n",
    "- Un ensemble de tags : catégorie du produit, localisation, origine, etc.\n",
    "- Les ingrédients composant les produits et leurs additifs éventuels.\n",
    "- Des informations nutritionnelles : quantité en grammes d’un nutriment pour 100 grammes du produit."
   ]
  },
  {
   "cell_type": "code",
   "execution_count": 1,
   "id": "98be6618",
   "metadata": {},
   "outputs": [],
   "source": [
    "%matplotlib inline\n",
    "\n",
    "import matplotlib.pyplot as plt\n",
    "import seaborn as sns"
   ]
  },
  {
   "cell_type": "code",
   "execution_count": 2,
   "id": "730777bb",
   "metadata": {},
   "outputs": [],
   "source": [
    "import pandas as pd\n",
    "import numpy as np\n",
    "import os"
   ]
  },
  {
   "cell_type": "code",
   "execution_count": 3,
   "id": "534a9ba6",
   "metadata": {},
   "outputs": [
    {
     "name": "stdout",
     "output_type": "stream",
     "text": [
      "CPU times: total: 5.48 s\n",
      "Wall time: 5.49 s\n"
     ]
    }
   ],
   "source": [
    "%%time\n",
    "df_openfoodfacts = pd.read_csv(\"df_openfoodfacts.csv\",sep='\\t',low_memory=False).drop(['quantity','serving_size'],axis=1)\n",
    "df_openfoodfacts.additives_n = [float(x) for x in df_openfoodfacts.additives_n]"
   ]
  },
  {
   "cell_type": "code",
   "execution_count": 4,
   "id": "bc0bf1c8",
   "metadata": {},
   "outputs": [],
   "source": [
    "nbLigne, nbCol = df_openfoodfacts.shape\n",
    "nbLigne, nbCol\n",
    "\n",
    "mask = df_openfoodfacts.dtypes.value_counts().reset_index()\n",
    "mask.rename(columns={'index':'type',0:'Nb'},inplace=True)\n",
    "nbColInt = mask.Nb[mask.type=='int64']\n",
    "nbColObject = mask.Nb[mask.type=='object']\n",
    "nbColFloat64 = mask.Nb[mask.type=='float64']\n",
    "#nbColDate = mask.Nb[mask.type=='Date']#'object''float64'"
   ]
  },
  {
   "cell_type": "code",
   "execution_count": 5,
   "id": "1598b1fe",
   "metadata": {},
   "outputs": [
    {
     "name": "stdout",
     "output_type": "stream",
     "text": [
      "Le fichier comtient 92 variables numeriques et 6 varriables catégoriques et 320749 lignes.\n"
     ]
    }
   ],
   "source": [
    "print('Le fichier comtient {} variables numeriques et {} varriables catégoriques et {} lignes.'\\\n",
    "      .format(nbColInt.values[0]+nbColFloat64.values[0],nbColObject.values[0],nbLigne ) )"
   ]
  },
  {
   "cell_type": "code",
   "execution_count": 6,
   "id": "d48aa877",
   "metadata": {},
   "outputs": [
    {
     "name": "stdout",
     "output_type": "stream",
     "text": [
      "<class 'pandas.core.frame.DataFrame'>\n",
      "RangeIndex: 320749 entries, 0 to 320748\n",
      "Data columns (total 98 columns):\n",
      " #   Column                                   Non-Null Count   Dtype  \n",
      "---  ------                                   --------------   -----  \n",
      " 0   code                                     320749 non-null  object \n",
      " 1   product_name                             302987 non-null  object \n",
      " 2   categories_fr                            84389 non-null   object \n",
      " 3   ingredients_text                         248939 non-null  object \n",
      " 4   additives_n                              248939 non-null  float64\n",
      " 5   main_category_fr                         84366 non-null   object \n",
      " 6   ingredients_from_palm_oil_n              248939 non-null  float64\n",
      " 7   ingredients_that_may_be_from_palm_oil_n  248939 non-null  float64\n",
      " 8   nutrition_grade_fr                       221210 non-null  object \n",
      " 9   nutrition-score-fr_100g                  221210 non-null  float64\n",
      " 10  presenceDeLabels                         320749 non-null  int64  \n",
      " 11  energy_100g                              320749 non-null  float64\n",
      " 12  energy-from-fat_100g                     320749 non-null  float64\n",
      " 13  fat_100g                                 320749 non-null  float64\n",
      " 14  saturated-fat_100g                       320749 non-null  float64\n",
      " 15  caprylic-acid_100g                       320749 non-null  float64\n",
      " 16  capric-acid_100g                         320749 non-null  float64\n",
      " 17  lauric-acid_100g                         320749 non-null  float64\n",
      " 18  myristic-acid_100g                       320749 non-null  float64\n",
      " 19  palmitic-acid_100g                       320749 non-null  float64\n",
      " 20  stearic-acid_100g                        320749 non-null  float64\n",
      " 21  arachidic-acid_100g                      320749 non-null  float64\n",
      " 22  montanic-acid_100g                       320749 non-null  float64\n",
      " 23  monounsaturated-fat_100g                 320749 non-null  float64\n",
      " 24  polyunsaturated-fat_100g                 320749 non-null  float64\n",
      " 25  omega-3-fat_100g                         320749 non-null  float64\n",
      " 26  alpha-linolenic-acid_100g                320749 non-null  float64\n",
      " 27  eicosapentaenoic-acid_100g               320749 non-null  float64\n",
      " 28  docosahexaenoic-acid_100g                320749 non-null  float64\n",
      " 29  omega-6-fat_100g                         320749 non-null  float64\n",
      " 30  linoleic-acid_100g                       320749 non-null  float64\n",
      " 31  arachidonic-acid_100g                    320749 non-null  float64\n",
      " 32  gamma-linolenic-acid_100g                320749 non-null  float64\n",
      " 33  omega-9-fat_100g                         320749 non-null  float64\n",
      " 34  oleic-acid_100g                          320749 non-null  float64\n",
      " 35  trans-fat_100g                           320749 non-null  float64\n",
      " 36  cholesterol_100g                         320749 non-null  float64\n",
      " 37  carbohydrates_100g                       320749 non-null  float64\n",
      " 38  sugars_100g                              320749 non-null  float64\n",
      " 39  sucrose_100g                             320749 non-null  float64\n",
      " 40  glucose_100g                             320749 non-null  float64\n",
      " 41  fructose_100g                            320749 non-null  float64\n",
      " 42  lactose_100g                             320749 non-null  float64\n",
      " 43  maltose_100g                             320749 non-null  float64\n",
      " 44  maltodextrins_100g                       320749 non-null  float64\n",
      " 45  starch_100g                              320749 non-null  float64\n",
      " 46  polyols_100g                             320749 non-null  float64\n",
      " 47  fiber_100g                               320749 non-null  float64\n",
      " 48  proteins_100g                            320749 non-null  float64\n",
      " 49  casein_100g                              320749 non-null  float64\n",
      " 50  serum-proteins_100g                      320749 non-null  float64\n",
      " 51  nucleotides_100g                         320749 non-null  float64\n",
      " 52  salt_100g                                320749 non-null  float64\n",
      " 53  sodium_100g                              320749 non-null  float64\n",
      " 54  alcohol_100g                             320749 non-null  float64\n",
      " 55  vitamin-a_100g                           320749 non-null  float64\n",
      " 56  beta-carotene_100g                       320749 non-null  float64\n",
      " 57  vitamin-d_100g                           320749 non-null  float64\n",
      " 58  vitamin-e_100g                           320749 non-null  float64\n",
      " 59  vitamin-k_100g                           320749 non-null  float64\n",
      " 60  vitamin-c_100g                           320749 non-null  float64\n",
      " 61  vitamin-b1_100g                          320749 non-null  float64\n",
      " 62  vitamin-b2_100g                          320749 non-null  float64\n",
      " 63  vitamin-pp_100g                          320749 non-null  float64\n",
      " 64  vitamin-b6_100g                          320749 non-null  float64\n",
      " 65  vitamin-b9_100g                          320749 non-null  float64\n",
      " 66  folates_100g                             320749 non-null  float64\n",
      " 67  vitamin-b12_100g                         320749 non-null  float64\n",
      " 68  biotin_100g                              320749 non-null  float64\n",
      " 69  pantothenic-acid_100g                    320749 non-null  float64\n",
      " 70  silica_100g                              320749 non-null  float64\n",
      " 71  bicarbonate_100g                         320749 non-null  float64\n",
      " 72  potassium_100g                           320749 non-null  float64\n",
      " 73  chloride_100g                            320749 non-null  float64\n",
      " 74  calcium_100g                             320749 non-null  float64\n",
      " 75  phosphorus_100g                          320749 non-null  float64\n",
      " 76  iron_100g                                320749 non-null  float64\n",
      " 77  magnesium_100g                           320749 non-null  float64\n",
      " 78  zinc_100g                                320749 non-null  float64\n",
      " 79  copper_100g                              320749 non-null  float64\n",
      " 80  manganese_100g                           320749 non-null  float64\n",
      " 81  fluoride_100g                            320749 non-null  float64\n",
      " 82  selenium_100g                            320749 non-null  float64\n",
      " 83  chromium_100g                            320749 non-null  float64\n",
      " 84  molybdenum_100g                          320749 non-null  float64\n",
      " 85  iodine_100g                              320749 non-null  float64\n",
      " 86  caffeine_100g                            320749 non-null  float64\n",
      " 87  taurine_100g                             320749 non-null  float64\n",
      " 88  ph_100g                                  320749 non-null  float64\n",
      " 89  fruits-vegetables-nuts_100g              320749 non-null  float64\n",
      " 90  collagen-meat-protein-ratio_100g         320749 non-null  float64\n",
      " 91  cocoa_100g                               320749 non-null  float64\n",
      " 92  bocal/conserve                           320749 non-null  int64  \n",
      " 93  creme/sauce                              320749 non-null  int64  \n",
      " 94  litre                                    320749 non-null  int64  \n",
      " 95  petit pot/yaourt                         320749 non-null  int64  \n",
      " 96  poids                                    320749 non-null  int64  \n",
      " 97  unité                                    320749 non-null  int64  \n",
      "dtypes: float64(85), int64(7), object(6)\n",
      "memory usage: 239.8+ MB\n"
     ]
    }
   ],
   "source": [
    "df_openfoodfacts.info()"
   ]
  },
  {
   "cell_type": "code",
   "execution_count": 7,
   "id": "cb043502",
   "metadata": {},
   "outputs": [
    {
     "data": {
      "text/html": [
       "<div>\n",
       "<style scoped>\n",
       "    .dataframe tbody tr th:only-of-type {\n",
       "        vertical-align: middle;\n",
       "    }\n",
       "\n",
       "    .dataframe tbody tr th {\n",
       "        vertical-align: top;\n",
       "    }\n",
       "\n",
       "    .dataframe thead th {\n",
       "        text-align: right;\n",
       "    }\n",
       "</style>\n",
       "<table border=\"1\" class=\"dataframe\">\n",
       "  <thead>\n",
       "    <tr style=\"text-align: right;\">\n",
       "      <th></th>\n",
       "      <th>code</th>\n",
       "      <th>product_name</th>\n",
       "      <th>categories_fr</th>\n",
       "      <th>ingredients_text</th>\n",
       "      <th>additives_n</th>\n",
       "      <th>main_category_fr</th>\n",
       "      <th>ingredients_from_palm_oil_n</th>\n",
       "      <th>ingredients_that_may_be_from_palm_oil_n</th>\n",
       "      <th>nutrition_grade_fr</th>\n",
       "      <th>nutrition-score-fr_100g</th>\n",
       "      <th>...</th>\n",
       "      <th>ph_100g</th>\n",
       "      <th>fruits-vegetables-nuts_100g</th>\n",
       "      <th>collagen-meat-protein-ratio_100g</th>\n",
       "      <th>cocoa_100g</th>\n",
       "      <th>bocal/conserve</th>\n",
       "      <th>creme/sauce</th>\n",
       "      <th>litre</th>\n",
       "      <th>petit pot/yaourt</th>\n",
       "      <th>poids</th>\n",
       "      <th>unité</th>\n",
       "    </tr>\n",
       "  </thead>\n",
       "  <tbody>\n",
       "    <tr>\n",
       "      <th>0</th>\n",
       "      <td>0000000003087</td>\n",
       "      <td>Farine de blé noir</td>\n",
       "      <td>NaN</td>\n",
       "      <td>NaN</td>\n",
       "      <td>NaN</td>\n",
       "      <td>NaN</td>\n",
       "      <td>NaN</td>\n",
       "      <td>NaN</td>\n",
       "      <td>NaN</td>\n",
       "      <td>NaN</td>\n",
       "      <td>...</td>\n",
       "      <td>0.0</td>\n",
       "      <td>0.0</td>\n",
       "      <td>0.0</td>\n",
       "      <td>0.0</td>\n",
       "      <td>0</td>\n",
       "      <td>0</td>\n",
       "      <td>0</td>\n",
       "      <td>0</td>\n",
       "      <td>1</td>\n",
       "      <td>0</td>\n",
       "    </tr>\n",
       "    <tr>\n",
       "      <th>1</th>\n",
       "      <td>0000000004530</td>\n",
       "      <td>Banana Chips Sweetened (Whole)</td>\n",
       "      <td>NaN</td>\n",
       "      <td>Bananas, vegetable oil (coconut oil, corn oil and/or palm oil) sugar, natural banana flavor.</td>\n",
       "      <td>0.0</td>\n",
       "      <td>NaN</td>\n",
       "      <td>0.0</td>\n",
       "      <td>0.0</td>\n",
       "      <td>d</td>\n",
       "      <td>14.0</td>\n",
       "      <td>...</td>\n",
       "      <td>0.0</td>\n",
       "      <td>0.0</td>\n",
       "      <td>0.0</td>\n",
       "      <td>0.0</td>\n",
       "      <td>0</td>\n",
       "      <td>0</td>\n",
       "      <td>0</td>\n",
       "      <td>0</td>\n",
       "      <td>1</td>\n",
       "      <td>0</td>\n",
       "    </tr>\n",
       "    <tr>\n",
       "      <th>2</th>\n",
       "      <td>0000000004559</td>\n",
       "      <td>Peanuts</td>\n",
       "      <td>NaN</td>\n",
       "      <td>Peanuts, wheat flour, sugar, rice flour, tapioca starch, salt, leavening (ammonium bicarbonate, baking soda), soy sauce (water, soybeans, wheat, s...</td>\n",
       "      <td>0.0</td>\n",
       "      <td>NaN</td>\n",
       "      <td>0.0</td>\n",
       "      <td>0.0</td>\n",
       "      <td>b</td>\n",
       "      <td>0.0</td>\n",
       "      <td>...</td>\n",
       "      <td>0.0</td>\n",
       "      <td>0.0</td>\n",
       "      <td>0.0</td>\n",
       "      <td>0.0</td>\n",
       "      <td>0</td>\n",
       "      <td>0</td>\n",
       "      <td>0</td>\n",
       "      <td>0</td>\n",
       "      <td>1</td>\n",
       "      <td>0</td>\n",
       "    </tr>\n",
       "    <tr>\n",
       "      <th>3</th>\n",
       "      <td>0000000016087</td>\n",
       "      <td>Organic Salted Nut Mix</td>\n",
       "      <td>NaN</td>\n",
       "      <td>Organic hazelnuts, organic cashews, organic walnuts almonds, organic sunflower oil, sea salt.</td>\n",
       "      <td>0.0</td>\n",
       "      <td>NaN</td>\n",
       "      <td>0.0</td>\n",
       "      <td>0.0</td>\n",
       "      <td>d</td>\n",
       "      <td>12.0</td>\n",
       "      <td>...</td>\n",
       "      <td>0.0</td>\n",
       "      <td>0.0</td>\n",
       "      <td>0.0</td>\n",
       "      <td>0.0</td>\n",
       "      <td>0</td>\n",
       "      <td>0</td>\n",
       "      <td>0</td>\n",
       "      <td>0</td>\n",
       "      <td>1</td>\n",
       "      <td>0</td>\n",
       "    </tr>\n",
       "    <tr>\n",
       "      <th>4</th>\n",
       "      <td>0000000016094</td>\n",
       "      <td>Organic Polenta</td>\n",
       "      <td>NaN</td>\n",
       "      <td>Organic polenta</td>\n",
       "      <td>0.0</td>\n",
       "      <td>NaN</td>\n",
       "      <td>0.0</td>\n",
       "      <td>0.0</td>\n",
       "      <td>NaN</td>\n",
       "      <td>NaN</td>\n",
       "      <td>...</td>\n",
       "      <td>0.0</td>\n",
       "      <td>0.0</td>\n",
       "      <td>0.0</td>\n",
       "      <td>0.0</td>\n",
       "      <td>0</td>\n",
       "      <td>0</td>\n",
       "      <td>0</td>\n",
       "      <td>0</td>\n",
       "      <td>1</td>\n",
       "      <td>0</td>\n",
       "    </tr>\n",
       "  </tbody>\n",
       "</table>\n",
       "<p>5 rows × 98 columns</p>\n",
       "</div>"
      ],
      "text/plain": [
       "            code                    product_name categories_fr  \\\n",
       "0  0000000003087              Farine de blé noir           NaN   \n",
       "1  0000000004530  Banana Chips Sweetened (Whole)           NaN   \n",
       "2  0000000004559                         Peanuts           NaN   \n",
       "3  0000000016087          Organic Salted Nut Mix           NaN   \n",
       "4  0000000016094                 Organic Polenta           NaN   \n",
       "\n",
       "                                                                                                                                        ingredients_text  \\\n",
       "0                                                                                                                                                    NaN   \n",
       "1                                                           Bananas, vegetable oil (coconut oil, corn oil and/or palm oil) sugar, natural banana flavor.   \n",
       "2  Peanuts, wheat flour, sugar, rice flour, tapioca starch, salt, leavening (ammonium bicarbonate, baking soda), soy sauce (water, soybeans, wheat, s...   \n",
       "3                                                          Organic hazelnuts, organic cashews, organic walnuts almonds, organic sunflower oil, sea salt.   \n",
       "4                                                                                                                                        Organic polenta   \n",
       "\n",
       "   additives_n main_category_fr  ingredients_from_palm_oil_n  \\\n",
       "0          NaN              NaN                          NaN   \n",
       "1          0.0              NaN                          0.0   \n",
       "2          0.0              NaN                          0.0   \n",
       "3          0.0              NaN                          0.0   \n",
       "4          0.0              NaN                          0.0   \n",
       "\n",
       "   ingredients_that_may_be_from_palm_oil_n nutrition_grade_fr  \\\n",
       "0                                      NaN                NaN   \n",
       "1                                      0.0                  d   \n",
       "2                                      0.0                  b   \n",
       "3                                      0.0                  d   \n",
       "4                                      0.0                NaN   \n",
       "\n",
       "   nutrition-score-fr_100g  ...  ph_100g  fruits-vegetables-nuts_100g  \\\n",
       "0                      NaN  ...      0.0                          0.0   \n",
       "1                     14.0  ...      0.0                          0.0   \n",
       "2                      0.0  ...      0.0                          0.0   \n",
       "3                     12.0  ...      0.0                          0.0   \n",
       "4                      NaN  ...      0.0                          0.0   \n",
       "\n",
       "   collagen-meat-protein-ratio_100g  cocoa_100g  bocal/conserve  creme/sauce  \\\n",
       "0                               0.0         0.0               0            0   \n",
       "1                               0.0         0.0               0            0   \n",
       "2                               0.0         0.0               0            0   \n",
       "3                               0.0         0.0               0            0   \n",
       "4                               0.0         0.0               0            0   \n",
       "\n",
       "   litre  petit pot/yaourt  poids  unité  \n",
       "0      0                 0      1      0  \n",
       "1      0                 0      1      0  \n",
       "2      0                 0      1      0  \n",
       "3      0                 0      1      0  \n",
       "4      0                 0      1      0  \n",
       "\n",
       "[5 rows x 98 columns]"
      ]
     },
     "execution_count": 7,
     "metadata": {},
     "output_type": "execute_result"
    }
   ],
   "source": [
    "# étende la largeur d'affichage de la colonne pandas df pour permettre une inspection facile\n",
    "pd.set_option('max_colwidth', 150)\n",
    "df_openfoodfacts.head()"
   ]
  },
  {
   "cell_type": "raw",
   "id": "3abbbbce",
   "metadata": {},
   "source": [
    "%%time\n",
    "from pandas_profiling import ProfileReport\n",
    "profile = ProfileReport(df_openfoodfacts.drop(['code','product_name','categories_fr','ingredients_text' ,'main_category_fr'],axis=1).sample(), title=\"Pandas Profiling Report\")\n",
    "profile.to_file(\"res_output.html\")"
   ]
  },
  {
   "cell_type": "code",
   "execution_count": 8,
   "id": "67bdc5c2",
   "metadata": {},
   "outputs": [
    {
     "data": {
      "text/plain": [
       "float64    85\n",
       "int64       7\n",
       "object      6\n",
       "dtype: int64"
      ]
     },
     "execution_count": 8,
     "metadata": {},
     "output_type": "execute_result"
    }
   ],
   "source": [
    "df_openfoodfacts.dtypes.value_counts()"
   ]
  },
  {
   "cell_type": "code",
   "execution_count": 9,
   "id": "6978798f",
   "metadata": {},
   "outputs": [
    {
     "data": {
      "text/plain": [
       "additives_n                                0.223882\n",
       "ingredients_from_palm_oil_n                0.223882\n",
       "ingredients_that_may_be_from_palm_oil_n    0.223882\n",
       "nutrition-score-fr_100g                    0.310333\n",
       "presenceDeLabels                           0.000000\n",
       "energy_100g                                0.000000\n",
       "energy-from-fat_100g                       0.000000\n",
       "fat_100g                                   0.000000\n",
       "saturated-fat_100g                         0.000000\n",
       "caprylic-acid_100g                         0.000000\n",
       "capric-acid_100g                           0.000000\n",
       "lauric-acid_100g                           0.000000\n",
       "myristic-acid_100g                         0.000000\n",
       "palmitic-acid_100g                         0.000000\n",
       "stearic-acid_100g                          0.000000\n",
       "arachidic-acid_100g                        0.000000\n",
       "montanic-acid_100g                         0.000000\n",
       "monounsaturated-fat_100g                   0.000000\n",
       "polyunsaturated-fat_100g                   0.000000\n",
       "omega-3-fat_100g                           0.000000\n",
       "alpha-linolenic-acid_100g                  0.000000\n",
       "eicosapentaenoic-acid_100g                 0.000000\n",
       "docosahexaenoic-acid_100g                  0.000000\n",
       "omega-6-fat_100g                           0.000000\n",
       "linoleic-acid_100g                         0.000000\n",
       "arachidonic-acid_100g                      0.000000\n",
       "gamma-linolenic-acid_100g                  0.000000\n",
       "omega-9-fat_100g                           0.000000\n",
       "oleic-acid_100g                            0.000000\n",
       "trans-fat_100g                             0.000000\n",
       "cholesterol_100g                           0.000000\n",
       "carbohydrates_100g                         0.000000\n",
       "sugars_100g                                0.000000\n",
       "sucrose_100g                               0.000000\n",
       "glucose_100g                               0.000000\n",
       "fructose_100g                              0.000000\n",
       "lactose_100g                               0.000000\n",
       "maltose_100g                               0.000000\n",
       "maltodextrins_100g                         0.000000\n",
       "starch_100g                                0.000000\n",
       "polyols_100g                               0.000000\n",
       "fiber_100g                                 0.000000\n",
       "proteins_100g                              0.000000\n",
       "casein_100g                                0.000000\n",
       "serum-proteins_100g                        0.000000\n",
       "nucleotides_100g                           0.000000\n",
       "salt_100g                                  0.000000\n",
       "sodium_100g                                0.000000\n",
       "alcohol_100g                               0.000000\n",
       "vitamin-a_100g                             0.000000\n",
       "beta-carotene_100g                         0.000000\n",
       "vitamin-d_100g                             0.000000\n",
       "vitamin-e_100g                             0.000000\n",
       "vitamin-k_100g                             0.000000\n",
       "vitamin-c_100g                             0.000000\n",
       "vitamin-b1_100g                            0.000000\n",
       "vitamin-b2_100g                            0.000000\n",
       "vitamin-pp_100g                            0.000000\n",
       "vitamin-b6_100g                            0.000000\n",
       "vitamin-b9_100g                            0.000000\n",
       "folates_100g                               0.000000\n",
       "vitamin-b12_100g                           0.000000\n",
       "biotin_100g                                0.000000\n",
       "pantothenic-acid_100g                      0.000000\n",
       "silica_100g                                0.000000\n",
       "bicarbonate_100g                           0.000000\n",
       "potassium_100g                             0.000000\n",
       "chloride_100g                              0.000000\n",
       "calcium_100g                               0.000000\n",
       "phosphorus_100g                            0.000000\n",
       "iron_100g                                  0.000000\n",
       "magnesium_100g                             0.000000\n",
       "zinc_100g                                  0.000000\n",
       "copper_100g                                0.000000\n",
       "manganese_100g                             0.000000\n",
       "fluoride_100g                              0.000000\n",
       "selenium_100g                              0.000000\n",
       "chromium_100g                              0.000000\n",
       "molybdenum_100g                            0.000000\n",
       "iodine_100g                                0.000000\n",
       "caffeine_100g                              0.000000\n",
       "taurine_100g                               0.000000\n",
       "ph_100g                                    0.000000\n",
       "fruits-vegetables-nuts_100g                0.000000\n",
       "collagen-meat-protein-ratio_100g           0.000000\n",
       "cocoa_100g                                 0.000000\n",
       "bocal/conserve                             0.000000\n",
       "creme/sauce                                0.000000\n",
       "litre                                      0.000000\n",
       "petit pot/yaourt                           0.000000\n",
       "poids                                      0.000000\n",
       "unité                                      0.000000\n",
       "dtype: float64"
      ]
     },
     "execution_count": 9,
     "metadata": {},
     "output_type": "execute_result"
    }
   ],
   "source": [
    "pd.options.display.max_rows=100\n",
    "df_openfoodfacts\\\n",
    ".drop(columns=['code','product_name','categories_fr','ingredients_text','nutrition_grade_fr','main_category_fr'])\\\n",
    ".isna()\\\n",
    ".sum()/nbLigne"
   ]
  },
  {
   "cell_type": "markdown",
   "id": "f1426229",
   "metadata": {},
   "source": [
    "### Analyse en Composante Principale"
   ]
  },
  {
   "cell_type": "code",
   "execution_count": 10,
   "id": "fccae635",
   "metadata": {},
   "outputs": [],
   "source": [
    "from sklearn import preprocessing as prep\n",
    "\n",
    "X = df_openfoodfacts\\\n",
    ".drop(columns=['code','product_name','categories_fr','ingredients_text','nutrition_grade_fr','main_category_fr'])\\\n",
    ".dropna()\n",
    "\n",
    "std_scale = prep.StandardScaler()\n",
    "X_scaled = std_scale.fit_transform(X)"
   ]
  },
  {
   "cell_type": "markdown",
   "id": "42a16446",
   "metadata": {},
   "source": [
    "#### Calcul des composantes principales"
   ]
  },
  {
   "cell_type": "code",
   "execution_count": 11,
   "id": "6248ca00",
   "metadata": {},
   "outputs": [
    {
     "data": {
      "text/html": [
       "<style>#sk-container-id-1 {color: black;background-color: white;}#sk-container-id-1 pre{padding: 0;}#sk-container-id-1 div.sk-toggleable {background-color: white;}#sk-container-id-1 label.sk-toggleable__label {cursor: pointer;display: block;width: 100%;margin-bottom: 0;padding: 0.3em;box-sizing: border-box;text-align: center;}#sk-container-id-1 label.sk-toggleable__label-arrow:before {content: \"▸\";float: left;margin-right: 0.25em;color: #696969;}#sk-container-id-1 label.sk-toggleable__label-arrow:hover:before {color: black;}#sk-container-id-1 div.sk-estimator:hover label.sk-toggleable__label-arrow:before {color: black;}#sk-container-id-1 div.sk-toggleable__content {max-height: 0;max-width: 0;overflow: hidden;text-align: left;background-color: #f0f8ff;}#sk-container-id-1 div.sk-toggleable__content pre {margin: 0.2em;color: black;border-radius: 0.25em;background-color: #f0f8ff;}#sk-container-id-1 input.sk-toggleable__control:checked~div.sk-toggleable__content {max-height: 200px;max-width: 100%;overflow: auto;}#sk-container-id-1 input.sk-toggleable__control:checked~label.sk-toggleable__label-arrow:before {content: \"▾\";}#sk-container-id-1 div.sk-estimator input.sk-toggleable__control:checked~label.sk-toggleable__label {background-color: #d4ebff;}#sk-container-id-1 div.sk-label input.sk-toggleable__control:checked~label.sk-toggleable__label {background-color: #d4ebff;}#sk-container-id-1 input.sk-hidden--visually {border: 0;clip: rect(1px 1px 1px 1px);clip: rect(1px, 1px, 1px, 1px);height: 1px;margin: -1px;overflow: hidden;padding: 0;position: absolute;width: 1px;}#sk-container-id-1 div.sk-estimator {font-family: monospace;background-color: #f0f8ff;border: 1px dotted black;border-radius: 0.25em;box-sizing: border-box;margin-bottom: 0.5em;}#sk-container-id-1 div.sk-estimator:hover {background-color: #d4ebff;}#sk-container-id-1 div.sk-parallel-item::after {content: \"\";width: 100%;border-bottom: 1px solid gray;flex-grow: 1;}#sk-container-id-1 div.sk-label:hover label.sk-toggleable__label {background-color: #d4ebff;}#sk-container-id-1 div.sk-serial::before {content: \"\";position: absolute;border-left: 1px solid gray;box-sizing: border-box;top: 0;bottom: 0;left: 50%;z-index: 0;}#sk-container-id-1 div.sk-serial {display: flex;flex-direction: column;align-items: center;background-color: white;padding-right: 0.2em;padding-left: 0.2em;position: relative;}#sk-container-id-1 div.sk-item {position: relative;z-index: 1;}#sk-container-id-1 div.sk-parallel {display: flex;align-items: stretch;justify-content: center;background-color: white;position: relative;}#sk-container-id-1 div.sk-item::before, #sk-container-id-1 div.sk-parallel-item::before {content: \"\";position: absolute;border-left: 1px solid gray;box-sizing: border-box;top: 0;bottom: 0;left: 50%;z-index: -1;}#sk-container-id-1 div.sk-parallel-item {display: flex;flex-direction: column;z-index: 1;position: relative;background-color: white;}#sk-container-id-1 div.sk-parallel-item:first-child::after {align-self: flex-end;width: 50%;}#sk-container-id-1 div.sk-parallel-item:last-child::after {align-self: flex-start;width: 50%;}#sk-container-id-1 div.sk-parallel-item:only-child::after {width: 0;}#sk-container-id-1 div.sk-dashed-wrapped {border: 1px dashed gray;margin: 0 0.4em 0.5em 0.4em;box-sizing: border-box;padding-bottom: 0.4em;background-color: white;}#sk-container-id-1 div.sk-label label {font-family: monospace;font-weight: bold;display: inline-block;line-height: 1.2em;}#sk-container-id-1 div.sk-label-container {text-align: center;}#sk-container-id-1 div.sk-container {/* jupyter's `normalize.less` sets `[hidden] { display: none; }` but bootstrap.min.css set `[hidden] { display: none !important; }` so we also need the `!important` here to be able to override the default hidden behavior on the sphinx rendered scikit-learn.org. See: https://github.com/scikit-learn/scikit-learn/issues/21755 */display: inline-block !important;position: relative;}#sk-container-id-1 div.sk-text-repr-fallback {display: none;}</style><div id=\"sk-container-id-1\" class=\"sk-top-container\"><div class=\"sk-text-repr-fallback\"><pre>PCA(n_components=2)</pre><b>In a Jupyter environment, please rerun this cell to show the HTML representation or trust the notebook. <br />On GitHub, the HTML representation is unable to render, please try loading this page with nbviewer.org.</b></div><div class=\"sk-container\" hidden><div class=\"sk-item\"><div class=\"sk-estimator sk-toggleable\"><input class=\"sk-toggleable__control sk-hidden--visually\" id=\"sk-estimator-id-1\" type=\"checkbox\" checked><label for=\"sk-estimator-id-1\" class=\"sk-toggleable__label sk-toggleable__label-arrow\">PCA</label><div class=\"sk-toggleable__content\"><pre>PCA(n_components=2)</pre></div></div></div></div></div>"
      ],
      "text/plain": [
       "PCA(n_components=2)"
      ]
     },
     "execution_count": 11,
     "metadata": {},
     "output_type": "execute_result"
    }
   ],
   "source": [
    "from sklearn import decomposition\n",
    "\n",
    "pca = decomposition.PCA(n_components=2)\n",
    "pca.fit(X_scaled)"
   ]
  },
  {
   "cell_type": "markdown",
   "id": "90c130b4",
   "metadata": {},
   "source": [
    "#### Pourcentage de variance expliquée"
   ]
  },
  {
   "cell_type": "code",
   "execution_count": 12,
   "id": "ee81b3c1",
   "metadata": {},
   "outputs": [
    {
     "name": "stdout",
     "output_type": "stream",
     "text": [
      "[0.04821264 0.03347315]\n",
      "0.08168579429501252\n"
     ]
    }
   ],
   "source": [
    "print(pca.explained_variance_ratio_)\n",
    "print(pca.explained_variance_ratio_.sum())"
   ]
  },
  {
   "cell_type": "code",
   "execution_count": 17,
   "id": "1c145bca",
   "metadata": {},
   "outputs": [
    {
     "data": {
      "text/plain": [
       "<matplotlib.colorbar.Colorbar at 0x25c36310700>"
      ]
     },
     "execution_count": 17,
     "metadata": {},
     "output_type": "execute_result"
    },
    {
     "data": {
      "image/png": "[encoded data removed]",
      "text/plain": [
       "<Figure size 640x480 with 2 Axes>"
      ]
     },
     "metadata": {},
     "output_type": "display_data"
    }
   ],
   "source": [
    "import matplotlib.pyplot as plt\n",
    "\n",
    "\n",
    "# projeter X sur les composantes principales\n",
    "X_projected = pca.transform(X_scaled)\n",
    "\n",
    "# afficher chaque observation\n",
    "plt.scatter(X_projected[:, 0], X_projected[:, 1],\n",
    "    # colorer en utilisant la variable 'Rank'\n",
    "    #c=df.Rank\n",
    "           )\n",
    "\n",
    "#plt.xlim([-5.5, 5.5])\n",
    "#plt.ylim([-4, 4])\n",
    "plt.colorbar()"
   ]
  },
  {
   "cell_type": "markdown",
   "id": "5b6d949c",
   "metadata": {},
   "source": [
    "#### Contribution de chaque variable aux composantes principales"
   ]
  },
  {
   "cell_type": "code",
   "execution_count": 16,
   "id": "ad4bc5df",
   "metadata": {},
   "outputs": [
    {
     "data": {
      "text/plain": [
       "(-0.7, 0.7)"
      ]
     },
     "execution_count": 16,
     "metadata": {},
     "output_type": "execute_result"
    },
    {
     "data": {
      "image/png": "[encoded data removed]",
      "text/plain": [
       "<Figure size 640x480 with 1 Axes>"
      ]
     },
     "metadata": {},
     "output_type": "display_data"
    }
   ],
   "source": [
    "pcs = pca.components_\n",
    "\n",
    "for i, (x, y) in enumerate(zip(pcs[0, :], pcs[1, :])):\n",
    "    # Afficher un segment de l'origine au point (x, y)\n",
    "    plt.plot([0, x], [0, y], color='k')\n",
    "    # Afficher le nom (data.columns[i]) de la performance\n",
    "    plt.text(x, y, X.columns[i], fontsize='14')\n",
    "\n",
    "# Afficher une ligne horizontale y=0\n",
    "plt.plot([-0.7, 0.7], [0, 0], color='grey', ls='--')\n",
    "\n",
    "# Afficher une ligne verticale x=0\n",
    "plt.plot([0, 0], [-0.7, 0.7], color='grey', ls='--')\n",
    "\n",
    "plt.xlim([-0.7, 0.7])\n",
    "plt.ylim([-0.7, 0.7])"
   ]
  },
  {
   "cell_type": "markdown",
   "id": "adf1249a",
   "metadata": {},
   "source": [
    "#### Calcul des composantes principales"
   ]
  },
  {
   "cell_type": "markdown",
   "id": "38a09715",
   "metadata": {},
   "source": [
    "### Machine Learning"
   ]
  },
  {
   "cell_type": "markdown",
   "id": "b23378a5",
   "metadata": {},
   "source": [
    "#### Création matrix de données "
   ]
  },
  {
   "cell_type": "code",
   "execution_count": null,
   "id": "bf87a6e4",
   "metadata": {},
   "outputs": [],
   "source": [
    "X = dataset.iloc[:, :-1].values #.values permet d'obtenir un objet\n",
    "y = dataset.iloc[:, 3].values"
   ]
  },
  {
   "cell_type": "markdown",
   "id": "36c71e26",
   "metadata": {},
   "source": [
    "#### Echantillonnage"
   ]
  },
  {
   "cell_type": "code",
   "execution_count": null,
   "id": "81f45913",
   "metadata": {},
   "outputs": [],
   "source": [
    "# Splitting the dataset into the Training set and Test set\n",
    "from sklearn.cross_validation import train_test_split\n",
    "X_train, X_test, y_train, y_test = train_test_split(X,  y, \n",
    "                                                    test_size = 0.2, # 20% du jeux de données réservé pour test la qualité du model\n",
    "                                                    random_state = 0)"
   ]
  },
  {
   "cell_type": "markdown",
   "id": "de1ccc35",
   "metadata": {},
   "source": [
    "#### Valeurs manquantes"
   ]
  },
  {
   "cell_type": "code",
   "execution_count": null,
   "id": "d4835120",
   "metadata": {},
   "outputs": [],
   "source": [
    "# Taking care of missing data\n",
    "from sklearn.preprocessing import Imputer\n",
    "imputer = Imputer(missing_values = 'NaN', strategy = 'mean', axis = 0)\n",
    "imputer = imputer.fit(X_train[:, 1:3])\n",
    "X_train[:, 1:3] = imputer.transform(X_train[:, 1:3])\n"
   ]
  },
  {
   "cell_type": "markdown",
   "id": "78c913c6",
   "metadata": {},
   "source": [
    "#### Encodage données categorique"
   ]
  },
  {
   "cell_type": "code",
   "execution_count": null,
   "id": "52dcf0a4",
   "metadata": {},
   "outputs": [],
   "source": [
    "from sklearn.preprocessing import LabelEncoder, OneHotEncoder\n",
    "\n",
    "# Encoding the Independent Variable\n",
    "labelencoder_X = LabelEncoder()\n",
    "X_train[:, 0] = labelencoder_X.fit_transform(X_train[:, 0])\n",
    "\n",
    "onehotencoder = OneHotEncoder(categorical_features = [0])\n",
    "X_train = onehotencoder.fit_transform(X_train).toarray()\n",
    "\n",
    "# Encoding the Dependent Variable\n",
    "labelencoder_y = LabelEncoder()\n",
    "y_train = labelencoder_y.fit_transform(y_train)"
   ]
  },
  {
   "cell_type": "markdown",
   "id": "d068bf46",
   "metadata": {},
   "source": [
    "#### Centrage réduction"
   ]
  },
  {
   "cell_type": "code",
   "execution_count": null,
   "id": "e6434adf",
   "metadata": {},
   "outputs": [],
   "source": [
    "from sklearn.preprocessing import StandardScaler\n",
    "sc_X = StandardScaler()\n",
    "X_train = sc_X.fit_transform(X_train)\n",
    "X_test = sc_X.transform(X_test)\n",
    "\n",
    "sc_y = StandardScaler()\n",
    "y_train = sc_y.fit_transform(y_train)"
   ]
  },
  {
   "cell_type": "markdown",
   "id": "0310a188",
   "metadata": {},
   "source": [
    "## Regression lineaire"
   ]
  },
  {
   "cell_type": "code",
   "execution_count": null,
   "id": "c6689fd8",
   "metadata": {},
   "outputs": [],
   "source": [
    "from sklearn import linear_model\n",
    "reglin = linear_model.LinearRegression(fit_intercept = False #car les données sont centrés et réduit z = (x - u) / s\n",
    "                                      )"
   ]
  },
  {
   "cell_type": "code",
   "execution_count": null,
   "id": "edf957d0",
   "metadata": {},
   "outputs": [],
   "source": [
    "# entrainement du model\n",
    "reglin.fit(X_train,y_train) "
   ]
  },
  {
   "cell_type": "code",
   "execution_count": null,
   "id": "482f878d",
   "metadata": {},
   "outputs": [],
   "source": [
    "#Le coefficient de determination de la prediction\n",
    "reg.score(X_test, y_test)"
   ]
  },
  {
   "cell_type": "markdown",
   "id": "c8a0baf1",
   "metadata": {},
   "source": [
    "## KNN"
   ]
  },
  {
   "cell_type": "code",
   "execution_count": null,
   "id": "8563cb1f",
   "metadata": {},
   "outputs": [],
   "source": [
    "### KNN\n",
    "from sklearn import neighbors"
   ]
  },
  {
   "cell_type": "markdown",
   "id": "5ec782f5",
   "metadata": {},
   "source": [
    "#### fine tuning"
   ]
  },
  {
   "cell_type": "code",
   "execution_count": null,
   "id": "a72ec55e",
   "metadata": {},
   "outputs": [],
   "source": [
    "kmintest = 2\n",
    "kmaxtotest = 15\n",
    "errors = []\n",
    "for k in range(kmintest,kmaxtotest):\n",
    "    knn = neighbors.KNeighborsClassifier(n_neighbors=k)\n",
    "    \n",
    "    # cross validation\n",
    "    errors.append(100 * (1-knn.fit(X_train,Y_train).score(X_val,Y_val)\n",
    "                         \n",
    "plt.plot(range(kmintest,kmaxtotest),errors, 'o-'))\n",
    "plt.show()"
   ]
  },
  {
   "cell_type": "markdown",
   "id": "1ea96381",
   "metadata": {},
   "source": [
    "#### meilleur modele"
   ]
  },
  {
   "cell_type": "code",
   "execution_count": null,
   "id": "62cfd227",
   "metadata": {},
   "outputs": [],
   "source": [
    "modelKNN = neighbors.KNeighborsClassifier(n_neighbors=k_best).fit(X_train,Y_train)"
   ]
  },
  {
   "cell_type": "markdown",
   "id": "ee82f902",
   "metadata": {},
   "source": [
    "#### performance modele"
   ]
  },
  {
   "cell_type": "code",
   "execution_count": null,
   "id": "dc304a3f",
   "metadata": {},
   "outputs": [],
   "source": [
    "modelKNN.score(X_test, y_test)"
   ]
  },
  {
   "cell_type": "code",
   "execution_count": null,
   "id": "9f046657",
   "metadata": {},
   "outputs": [],
   "source": [
    "error = round((1 - modelKNN.score(xtest, ytest)) *100,ndigits=2)\n",
    "print('Erreur: %f' % error)"
   ]
  },
  {
   "cell_type": "code",
   "execution_count": 1,
   "id": "ad415203",
   "metadata": {},
   "outputs": [
    {
     "ename": "NameError",
     "evalue": "name 'wait' is not defined",
     "output_type": "error",
     "traceback": [
      "\u001b[1;31m---------------------------------------------------------------------------\u001b[0m",
      "\u001b[1;31mNameError\u001b[0m                                 Traceback (most recent call last)",
      "Input \u001b[1;32mIn [1]\u001b[0m, in \u001b[0;36m<cell line: 1>\u001b[1;34m()\u001b[0m\n\u001b[1;32m----> 1\u001b[0m \u001b[43mwait\u001b[49m\n",
      "\u001b[1;31mNameError\u001b[0m: name 'wait' is not defined"
     ]
    }
   ],
   "source": [
    "wait"
   ]
  }
 ],
 "metadata": {
  "kernelspec": {
   "display_name": "Python 3 (ipykernel)",
   "language": "python",
   "name": "python3"
  },
  "language_info": {
   "codemirror_mode": {
    "name": "ipython",
    "version": 3
   },
   "file_extension": ".py",
   "mimetype": "text/x-python",
   "name": "python",
   "nbconvert_exporter": "python",
   "pygments_lexer": "ipython3",
   "version": "3.8.13"
  }
 },
 "nbformat": 4,
 "nbformat_minor": 5
}
