{
 "cells": [
  {
   "cell_type": "markdown",
   "id": "83003fbf",
   "metadata": {},
   "source": [
    "# P3 Concevez une application au service de la santé publique "
   ]
  },
  {
   "cell_type": "markdown",
   "id": "9588c526",
   "metadata": {},
   "source": [
    "L'agence <span style='color:blue'> <a href = \"http://www.santepubliquefrance.fr/\">\"*Santé publique France*\" </a></span> a lancé un appel à projets pour trouver des idées innovantes d’applications en lien avec l'alimentation. <br>\n",
    "Vous souhaitez y participer et proposer une idée d’application."
   ]
  },
  {
   "cell_type": "markdown",
   "id": "bbdaff0a",
   "metadata": {},
   "source": [
    "Le jeu de données <font color='orange'>Open Food Facts</font> est disponible sur le <a href = \"https://world.openfoodfacts.org/\">site officiel</a> (ou disponible à <a href =\"https://s3-eu-west-1.amazonaws.com/static.oc-static.com/prod/courses/files/parcours-data-scientist/P2/fr.openfoodfacts.org.products.csv.zip\">ce lien</a> en téléchargement).\n",
    "<br>\n",
    "Les variables sont définies à <a href = \"https://world.openfoodfacts.org/data/data-fields.txt\">cette adresse</a>"
   ]
  },
  {
   "cell_type": "markdown",
   "id": "1d8b61e7",
   "metadata": {},
   "source": [
    "Les champs sont séparés en quatre sections :\n",
    "\n",
    "- Les informations générales sur la fiche du produit : nom, date de modification, etc.\n",
    "- Un ensemble de tags : catégorie du produit, localisation, origine, etc.\n",
    "- Les ingrédients composant les produits et leurs additifs éventuels.\n",
    "- Des informations nutritionnelles : quantité en grammes d’un nutriment pour 100 grammes du produit."
   ]
  },
  {
   "cell_type": "code",
   "execution_count": 1,
   "id": "4cb51872",
   "metadata": {},
   "outputs": [],
   "source": [
    "%matplotlib inline\n",
    "\n",
    "import matplotlib.pyplot as plt\n",
    "import seaborn as sns\n",
    "\n",
    "import pandas as pd\n",
    "import numpy as np\n",
    "import os\n",
    "\n",
    "import missingno as msno"
   ]
  },
  {
   "cell_type": "raw",
   "id": "2fe9e072",
   "metadata": {},
   "source": [
    "openfoodfacts = pd.read_csv(\"fr.openfoodfacts.org.products.csv\",sep='\\t')"
   ]
  },
  {
   "cell_type": "markdown",
   "id": "5b2c3814",
   "metadata": {},
   "source": [
    "Erreur: pandas lors de l'import, certaines colonnes possèdent des valeurs de types differents:"
   ]
  },
  {
   "cell_type": "markdown",
   "id": "5c7fc0d0",
   "metadata": {},
   "source": [
    "Correction parametrer  l'argument low_memory à False"
   ]
  },
  {
   "cell_type": "code",
   "execution_count": null,
   "id": "b9756965",
   "metadata": {},
   "outputs": [],
   "source": [
    "%%time\n",
    "if os.path.exists(\"fr.openfoodfacts.org.products.csv\"):\n",
    "    openfoodfacts = pd.read_csv(\"fr.openfoodfacts.org.products.csv\",sep='\\t',low_memory=False)"
   ]
  },
  {
   "cell_type": "markdown",
   "id": "58a68d42",
   "metadata": {},
   "source": [
    "prendre 1 echant en parametre / \n",
    "figer typ de chaq col"
   ]
  },
  {
   "cell_type": "markdown",
   "id": "ad621f48",
   "metadata": {},
   "source": [
    "Le code cidessous permet de créer un rapport automatisé de notre dataframe."
   ]
  },
  {
   "cell_type": "markdown",
   "id": "8cc2e5fc",
   "metadata": {},
   "source": [
    "%%time\n",
    "from pandas_profiling import ProfileReport\n",
    "profile = ProfileReport(openfoodfacts.sample(int(round(openfoodfacts.shape[0]*0.01,ndigits=0))), title=\"Pandas Profiling Report\")\n",
    "profile.to_file(\"output.html\")"
   ]
  },
  {
   "cell_type": "code",
   "execution_count": null,
   "id": "e5c604a9",
   "metadata": {},
   "outputs": [],
   "source": [
    "openfoodfacts.info()"
   ]
  },
  {
   "cell_type": "markdown",
   "id": "2efdeb5f",
   "metadata": {},
   "source": [
    "Le fichier comtient 106 variables numeriques et 56 varriables catégoriques"
   ]
  },
  {
   "cell_type": "code",
   "execution_count": null,
   "id": "bc1578ec",
   "metadata": {},
   "outputs": [],
   "source": [
    "nbLigne, nbCol = openfoodfacts.shape\n",
    "nbLigne, nbCol"
   ]
  },
  {
   "cell_type": "markdown",
   "id": "f6c713a6",
   "metadata": {},
   "source": [
    "### Etude du nombre de valeurs manquantes"
   ]
  },
  {
   "cell_type": "code",
   "execution_count": null,
   "id": "c3845e84",
   "metadata": {},
   "outputs": [],
   "source": [
    "nbNaVariable = pd.DataFrame(openfoodfacts.isnull().sum().sort_values(),columns = [\"Nombre NA\"])"
   ]
  },
  {
   "cell_type": "code",
   "execution_count": null,
   "id": "2a8eca33",
   "metadata": {},
   "outputs": [],
   "source": [
    "nbNaVariable.head(10)"
   ]
  },
  {
   "cell_type": "markdown",
   "id": "1679507d",
   "metadata": {},
   "source": [
    "On voit que 23 produits ne possède pas de code bar. Que sont ces produits?"
   ]
  },
  {
   "cell_type": "code",
   "execution_count": null,
   "id": "83c2bc16",
   "metadata": {},
   "outputs": [],
   "source": [
    "openfoodfacts[openfoodfacts.code.isnull()]"
   ]
  },
  {
   "cell_type": "markdown",
   "id": "58b91bac",
   "metadata": {},
   "source": [
    "Ce sont des produits laitiers. Peut etre qu'il faut les supprimer."
   ]
  },
  {
   "cell_type": "code",
   "execution_count": null,
   "id": "618c870e",
   "metadata": {},
   "outputs": [],
   "source": [
    "openfoodfacts = openfoodfacts.loc[~openfoodfacts.code.isna()]"
   ]
  },
  {
   "cell_type": "raw",
   "id": "d293a3bf",
   "metadata": {},
   "source": [
    "Mise a jour de nos indicateurs"
   ]
  },
  {
   "cell_type": "code",
   "execution_count": null,
   "id": "34733d78",
   "metadata": {},
   "outputs": [],
   "source": [
    "nbLigne, nbCol = openfoodfacts.shape\n",
    "nbNaVariable = pd.DataFrame(openfoodfacts.isnull().sum().sort_values(),columns = [\"Nombre NA\"])\n",
    "nbLigne, nbCol"
   ]
  },
  {
   "cell_type": "markdown",
   "id": "146df46f",
   "metadata": {},
   "source": [
    "### Etudes des Doublons"
   ]
  },
  {
   "cell_type": "code",
   "execution_count": null,
   "id": "22e2c90f",
   "metadata": {},
   "outputs": [],
   "source": [
    "openfoodfacts.duplicated().sum()"
   ]
  },
  {
   "cell_type": "raw",
   "id": "dd848d0d",
   "metadata": {},
   "source": [
    "Il n'y a pas de doublon de lignes\n",
    "Il y a t'il des Doublons de la cle primaire \"codes\" ?"
   ]
  },
  {
   "cell_type": "code",
   "execution_count": null,
   "id": "e1ac29e5",
   "metadata": {},
   "outputs": [],
   "source": [
    "openfoodfacts.code.nunique()/openfoodfacts.shape[0]"
   ]
  },
  {
   "cell_type": "raw",
   "id": "d5d7b3d2",
   "metadata": {},
   "source": [
    "non"
   ]
  },
  {
   "cell_type": "markdown",
   "id": "1cf8de03",
   "metadata": {},
   "source": [
    "On ne trouve pas de valeurs manquantes.\n",
    "Il y a-t'il des erreurs?"
   ]
  },
  {
   "cell_type": "code",
   "execution_count": null,
   "id": "1f79259c",
   "metadata": {},
   "outputs": [],
   "source": [
    "openfoodfacts.code.str.replace('[a-zA-Z]','A',regex=True).str.replace('[0-9]','N',regex=True).value_counts()"
   ]
  },
  {
   "cell_type": "code",
   "execution_count": null,
   "id": "733d6128",
   "metadata": {},
   "outputs": [],
   "source": [
    "openfoodfacts.code.str.replace('[a-zA-Z]','A',regex=True).str.zfill(41).str.replace('[0-9]','N',regex=True).value_counts()"
   ]
  },
  {
   "cell_type": "code",
   "execution_count": null,
   "id": "009556b7",
   "metadata": {},
   "outputs": [],
   "source": [
    "openfoodfacts[openfoodfacts.code.str.zfill(41)=='00000000000000000000000000000000000016117'][['url']].iloc[1].values"
   ]
  },
  {
   "cell_type": "raw",
   "id": "99d5e47a",
   "metadata": {},
   "source": [
    "Les codes ne sont pas des valeurs numeriques. \n",
    "Il ne faut pas pad les valeurs, il n'y a donc pas de doublons"
   ]
  },
  {
   "cell_type": "markdown",
   "id": "1a2326e1",
   "metadata": {},
   "source": [
    "</br>"
   ]
  },
  {
   "cell_type": "markdown",
   "id": "de4a0d93",
   "metadata": {},
   "source": [
    "</br>"
   ]
  },
  {
   "cell_type": "markdown",
   "id": "93b81955",
   "metadata": {},
   "source": [
    "# Etude des types de variables"
   ]
  },
  {
   "cell_type": "code",
   "execution_count": null,
   "id": "d26a4faa",
   "metadata": {},
   "outputs": [],
   "source": [
    "pd.options.display.max_rows,pd.options.display.max_columns"
   ]
  },
  {
   "cell_type": "code",
   "execution_count": null,
   "id": "f77f513e",
   "metadata": {},
   "outputs": [],
   "source": [
    "pd.set_option(\"display.max_rows\", 60) #parametre le nombre de ligne affichable dans dataframe pandas\n",
    "pd.set_option(\"expand_frame_repr\", True) #permet de deplier les colonnes cachées\n",
    "pd.set_option(\"display.max_columns\",200 ) #permet d'afficher jusqu'à 200 colonnes dans une cellule"
   ]
  },
  {
   "cell_type": "code",
   "execution_count": null,
   "id": "b0cc5e9d",
   "metadata": {},
   "outputs": [],
   "source": [
    "openfoodfacts.sample(2)"
   ]
  },
  {
   "cell_type": "code",
   "execution_count": null,
   "id": "6eefe419",
   "metadata": {},
   "outputs": [],
   "source": [
    "nomColonnes = pd.DataFrame({'Colonnes':openfoodfacts.columns})\n",
    "nomColonnes.T"
   ]
  },
  {
   "cell_type": "code",
   "execution_count": null,
   "id": "ce597a92",
   "metadata": {},
   "outputs": [],
   "source": [
    "# Categoriser les types de colonnes\n",
    "#info general\n",
    "general_information = nomColonnes.Colonnes[:10].values.tolist()\n",
    "\n",
    "#tags\n",
    "tags = nomColonnes.Colonnes[10:21].values.tolist() + nomColonnes.Colonnes[24:34].values.tolist()\n",
    "\n",
    "#les ingredients\n",
    "ingredients = nomColonnes.Colonnes[34:40].values.tolist()\n",
    "\n",
    "#\n",
    "misc_data = nomColonnes.Colonnes[40:52].values.tolist() + nomColonnes.Colonnes[54:63].values.tolist()\n",
    "\n",
    "#Les vvaleurs nutritionnelles\n",
    "nutrition_facts = nomColonnes.Colonnes[63:157].values.tolist() + nomColonnes.Colonnes[160:162].values.tolist()\n",
    "\n",
    "\n",
    "#Les scores nutritionnelles\n",
    "score_foot_print = nomColonnes.Colonnes[52:54].values.tolist() + nomColonnes.Colonnes[157:160].values.tolist()\n",
    "\n",
    "labels = nomColonnes.Colonnes[21:24].values.tolist()\n",
    "\n",
    "#Remplir colonnes type_de_données\n",
    "nomColonnes['type_de_colonne'] = ''\n",
    "\n",
    "nomColonnes.type_de_colonne[nomColonnes.Colonnes.isin(general_information)] = \"general_information\"\n",
    "nomColonnes.type_de_colonne[nomColonnes.Colonnes.isin(tags)] = \"tags\"\n",
    "nomColonnes.type_de_colonne[nomColonnes.Colonnes.isin(ingredients)] = \"ingredients\"\n",
    "nomColonnes.type_de_colonne[nomColonnes.Colonnes.isin(misc_data)] = \"misc_data\"\n",
    "nomColonnes.type_de_colonne[nomColonnes.Colonnes.isin(nutrition_facts)] = \"nutrition_facts\"\n",
    "nomColonnes.type_de_colonne[nomColonnes.Colonnes.isin(score_foot_print)] = \"score_foot_print\"\n",
    "nomColonnes.type_de_colonne[nomColonnes.Colonnes.isin(labels)] = \"labels\""
   ]
  },
  {
   "cell_type": "code",
   "execution_count": null,
   "id": "d56f803b",
   "metadata": {},
   "outputs": [],
   "source": [
    "nomColonnes.T"
   ]
  },
  {
   "cell_type": "code",
   "execution_count": null,
   "id": "8a66ce4f",
   "metadata": {},
   "outputs": [],
   "source": [
    "nomColonnes = nomColonnes.merge(right=nbNaVariable.reset_index(),left_on='Colonnes',right_on='index',how='left').drop(columns=['index'])"
   ]
  },
  {
   "cell_type": "markdown",
   "id": "18faee8a",
   "metadata": {},
   "source": [
    "</br>"
   ]
  },
  {
   "cell_type": "markdown",
   "id": "204607cd",
   "metadata": {},
   "source": [
    "</br>"
   ]
  },
  {
   "cell_type": "markdown",
   "id": "25694f73",
   "metadata": {},
   "source": [
    "</br>"
   ]
  },
  {
   "cell_type": "markdown",
   "id": "3385c31f",
   "metadata": {},
   "source": [
    "</br>"
   ]
  },
  {
   "cell_type": "markdown",
   "id": "7ad89517",
   "metadata": {},
   "source": [
    "## Supprimer les colonnes en double"
   ]
  },
  {
   "cell_type": "code",
   "execution_count": null,
   "id": "62b53d1d",
   "metadata": {},
   "outputs": [],
   "source": [
    "col_to_drop = []\n",
    "colgarder = []"
   ]
  },
  {
   "cell_type": "markdown",
   "id": "b8b0fe33",
   "metadata": {},
   "source": [
    "### les valeurs manquantes"
   ]
  },
  {
   "cell_type": "code",
   "execution_count": null,
   "id": "22d01b12",
   "metadata": {},
   "outputs": [],
   "source": [
    "# les variables general_information\n",
    "msno.matrix(openfoodfacts.loc[:,openfoodfacts.columns[openfoodfacts.columns.isin(general_information)]]);"
   ]
  },
  {
   "cell_type": "code",
   "execution_count": null,
   "id": "c43151eb",
   "metadata": {},
   "outputs": [],
   "source": [
    "openfoodfacts.loc[:,openfoodfacts.columns[openfoodfacts.columns.isin(general_information)]].isna().sum()/nbLigne"
   ]
  },
  {
   "cell_type": "markdown",
   "id": "59ab511a",
   "metadata": {},
   "source": [
    "#### Creation de la variable url_page_name \n",
    "> Idée: Completer la variable categorie ou product name"
   ]
  },
  {
   "cell_type": "code",
   "execution_count": null,
   "id": "3027c6b4",
   "metadata": {},
   "outputs": [],
   "source": [
    "openfoodfacts.url.unique()"
   ]
  },
  {
   "cell_type": "code",
   "execution_count": null,
   "id": "c28d7301",
   "metadata": {},
   "outputs": [],
   "source": [
    "openfoodfacts.url.str.replace('^http://world-fr.openfoodfacts.org/produit/[0-9]+/','',regex=True).unique()"
   ]
  },
  {
   "cell_type": "raw",
   "id": "35307695",
   "metadata": {},
   "source": [
    "openfoodfacts['url_page_name'] = openfoodfacts.url\\\n",
    ".str.replace('^http://world-fr.openfoodfacts.org/produit/[0-9]+/','',regex=True)\n",
    "\n",
    "# MAJ du DF nomColonnes\n",
    "nomColonnes = pd.concat([nomColonnes,pd.DataFrame({'Colonnes':'url_page_name',\n",
    "                                                   'type_de_colonne':'general_information',\n",
    "                                                   'Nombre NA':openfoodfacts.url_page_name.isna().sum()} ,\n",
    "                                                  index=[nomColonnes.index.max()+1])], \n",
    "                         axis=0)"
   ]
  },
  {
   "cell_type": "markdown",
   "id": "f27bcf0c",
   "metadata": {},
   "source": [
    "#### Completer na colonne product name\n",
    "> si le product name est na prendre url_name"
   ]
  },
  {
   "cell_type": "markdown",
   "id": "4ed12301",
   "metadata": {},
   "source": [
    "</br>"
   ]
  },
  {
   "cell_type": "markdown",
   "id": "da786162",
   "metadata": {},
   "source": [
    "</br>"
   ]
  },
  {
   "cell_type": "markdown",
   "id": "daa3c30b",
   "metadata": {},
   "source": [
    "</br>"
   ]
  },
  {
   "cell_type": "code",
   "execution_count": null,
   "id": "0f46453d",
   "metadata": {},
   "outputs": [],
   "source": [
    "# general_information\n",
    "col_to_drop += ['generic_name','url','creator', 'created_t', 'created_datetime', 'last_modified_t', 'last_modified_datetime']\n",
    "colgarder += ['code','product_name','quantity']\n",
    "\n",
    "#Maj general_information\n",
    "[general_information.remove(x) for x in col_to_drop]\n",
    "general_information"
   ]
  },
  {
   "cell_type": "markdown",
   "id": "f647bc29",
   "metadata": {},
   "source": [
    "</br>"
   ]
  },
  {
   "cell_type": "markdown",
   "id": "2114385b",
   "metadata": {},
   "source": [
    "</br>"
   ]
  },
  {
   "cell_type": "markdown",
   "id": "88772496",
   "metadata": {},
   "source": [
    "</br>"
   ]
  },
  {
   "cell_type": "code",
   "execution_count": null,
   "id": "80a609c1",
   "metadata": {},
   "outputs": [],
   "source": [
    "# les variables tags\n",
    "msno.matrix(openfoodfacts.loc[:,openfoodfacts.columns[openfoodfacts.columns.isin(tags)]]);"
   ]
  },
  {
   "cell_type": "code",
   "execution_count": null,
   "id": "e8226112",
   "metadata": {},
   "outputs": [],
   "source": [
    "openfoodfacts.loc[:,openfoodfacts.columns[openfoodfacts.columns.isin(tags)]].isna().sum()/nbLigne"
   ]
  },
  {
   "cell_type": "code",
   "execution_count": null,
   "id": "b1cc9e53",
   "metadata": {},
   "outputs": [],
   "source": [
    "# les données de catégories\n",
    "openfoodfacts[['code','categories_fr','categories','categories_tags','main_category','main_category_fr']].isna().sum()/nbLigne\n"
   ]
  },
  {
   "cell_type": "code",
   "execution_count": null,
   "id": "b555f9a1",
   "metadata": {},
   "outputs": [],
   "source": [
    "msno.bar(openfoodfacts[['code','categories_fr','categories','categories_tags','main_category','main_category_fr']]);"
   ]
  },
  {
   "cell_type": "code",
   "execution_count": null,
   "id": "850127ff",
   "metadata": {},
   "outputs": [],
   "source": [
    "msno.heatmap( openfoodfacts[['categories_fr','categories','categories_tags','main_category','main_category_fr']] );"
   ]
  },
  {
   "cell_type": "markdown",
   "id": "bc782915",
   "metadata": {},
   "source": [
    "main_categorie et categories_fr sont rempli de la meme façon."
   ]
  },
  {
   "cell_type": "code",
   "execution_count": null,
   "id": "1e0ab867",
   "metadata": {},
   "outputs": [],
   "source": [
    "# tags\n",
    "col_to_drop += [ 'packaging','packaging_tags','brands','brands_tags',\n",
    "                'origins','origins_tags','manufacturing_places','manufacturing_places_tags',\n",
    "                'cities','cities_tags','countries','countries_tags','countries_fr',\n",
    "                'emb_codes', 'emb_codes_tags', 'first_packaging_code_geo',\n",
    "                'categories', 'categories_tags',\n",
    "                'purchase_places', 'stores']\n",
    "\n",
    "colgarder += ['categories_fr']\n",
    "\n",
    "#Maj tags\n",
    "[tags.remove(x) for x in [ 'packaging','packaging_tags','brands','brands_tags','emb_codes', 'emb_codes_tags', \n",
    "                           'origins','origins_tags','manufacturing_places','manufacturing_places_tags',\n",
    "                          'cities','cities_tags','countries','countries_tags','countries_fr',\n",
    "                          'first_packaging_code_geo','purchase_places', 'stores','categories', \n",
    "                          'categories_tags']]\n",
    "tags"
   ]
  },
  {
   "cell_type": "code",
   "execution_count": null,
   "id": "80bb75f6",
   "metadata": {},
   "outputs": [],
   "source": [
    "# Il n'est pas possible de créer une super variable catégories\n",
    "# Idée trouver modele category ~ f(X)"
   ]
  },
  {
   "cell_type": "markdown",
   "id": "8cfba32f",
   "metadata": {},
   "source": [
    "</br>"
   ]
  },
  {
   "cell_type": "markdown",
   "id": "1b5eb65f",
   "metadata": {},
   "source": [
    "</br>"
   ]
  },
  {
   "cell_type": "markdown",
   "id": "92d75819",
   "metadata": {},
   "source": [
    "</br>"
   ]
  },
  {
   "cell_type": "code",
   "execution_count": null,
   "id": "c134396e",
   "metadata": {},
   "outputs": [],
   "source": [
    "#les variables ingredients\n",
    "msno.matrix(openfoodfacts.loc[:,openfoodfacts.columns[openfoodfacts.columns.isin(ingredients)]]);"
   ]
  },
  {
   "cell_type": "code",
   "execution_count": null,
   "id": "6955cf96",
   "metadata": {},
   "outputs": [],
   "source": [
    "# ingredients\n",
    "col_to_drop += ['ingredients_text','allergens', 'allergens_fr', 'traces', 'traces_tags','traces_fr']\n",
    "#colgarder += ['ingredients_text']\n",
    "\n",
    "#Maj tags\n",
    "[ingredients.remove(x) for x in [ 'ingredients_text','allergens', 'allergens_fr', 'traces', 'traces_tags', 'traces_fr']]\n",
    "ingredients"
   ]
  },
  {
   "cell_type": "code",
   "execution_count": null,
   "id": "b9c9ba6c",
   "metadata": {},
   "outputs": [],
   "source": [
    "openfoodfacts.loc[openfoodfacts.code=='3017620422003']"
   ]
  },
  {
   "cell_type": "markdown",
   "id": "ad3532c5",
   "metadata": {},
   "source": [
    "</br>"
   ]
  },
  {
   "cell_type": "markdown",
   "id": "f0cddeff",
   "metadata": {},
   "source": [
    "</br>"
   ]
  },
  {
   "cell_type": "markdown",
   "id": "7cb2e02b",
   "metadata": {},
   "source": [
    "</br>"
   ]
  },
  {
   "cell_type": "code",
   "execution_count": null,
   "id": "2241fda6",
   "metadata": {},
   "outputs": [],
   "source": [
    "#les variables misc_data\n",
    "msno.matrix(openfoodfacts.loc[:,openfoodfacts.columns[openfoodfacts.columns.isin(misc_data)]]);"
   ]
  },
  {
   "cell_type": "code",
   "execution_count": null,
   "id": "e27f041d",
   "metadata": {},
   "outputs": [],
   "source": [
    "misc_data"
   ]
  },
  {
   "cell_type": "code",
   "execution_count": null,
   "id": "9d728a6d",
   "metadata": {},
   "outputs": [],
   "source": [
    "# creation colonne \"ingredients_from_palm_oil_nb\""
   ]
  },
  {
   "cell_type": "code",
   "execution_count": null,
   "id": "6a15f2db",
   "metadata": {},
   "outputs": [],
   "source": [
    "# misc_data\n",
    "col_to_drop += ['no_nutriments',\n",
    "                'additives','additives_tags','additives_fr',\n",
    "                'ingredients_from_palm_oil', 'ingredients_from_palm_oil_tags',\n",
    "                'ingredients_that_may_be_from_palm_oil', 'ingredients_that_may_be_from_palm_oil_tags',\n",
    "                'pnns_groups_1', 'pnns_groups_2',\n",
    "                'states', 'states_tags', 'states_fr',\n",
    "                'main_category',\n",
    "                'image_url', 'image_small_url']\n",
    "\n",
    "\n",
    "colgarder += ['serving_size','additives_n', 'main_category_fr',\n",
    "              'ingredients_from_palm_oil_n','ingredients_that_may_be_from_palm_oil_n',]\n",
    "\n",
    "#Maj tags\n",
    "[misc_data.remove(x) for x in [ 'no_nutriments',\n",
    "                               'additives','additives_tags','additives_fr', \n",
    "                               'ingredients_from_palm_oil', 'ingredients_from_palm_oil_tags',\n",
    "                               'ingredients_that_may_be_from_palm_oil', 'ingredients_that_may_be_from_palm_oil_tags', \n",
    "                               'pnns_groups_1', 'pnns_groups_2',\n",
    "                               'states', 'states_tags', 'states_fr',\n",
    "                               'main_category',\n",
    "                               'image_url', 'image_small_url']]\n",
    "misc_data"
   ]
  },
  {
   "cell_type": "markdown",
   "id": "329e90c0",
   "metadata": {},
   "source": [
    "</br>"
   ]
  },
  {
   "cell_type": "markdown",
   "id": "baf71763",
   "metadata": {},
   "source": [
    "</br>"
   ]
  },
  {
   "cell_type": "markdown",
   "id": "b95b4d3d",
   "metadata": {},
   "source": [
    "</br>"
   ]
  },
  {
   "cell_type": "code",
   "execution_count": null,
   "id": "6ef0f3d4",
   "metadata": {},
   "outputs": [],
   "source": [
    "# les variables score_foot_print\n",
    "msno.matrix(openfoodfacts.loc[:,openfoodfacts.columns[openfoodfacts.columns.isin(score_foot_print)]]);"
   ]
  },
  {
   "cell_type": "code",
   "execution_count": null,
   "id": "b322519c",
   "metadata": {},
   "outputs": [],
   "source": [
    "openfoodfacts.loc[:,openfoodfacts.columns[openfoodfacts.columns.isin(score_foot_print)]].isna().sum()/nbLigne"
   ]
  },
  {
   "cell_type": "code",
   "execution_count": null,
   "id": "6c0d05aa",
   "metadata": {},
   "outputs": [],
   "source": [
    "#openfoodfacts[[ 'nutrition-score-fr_100g', 'openfoodfacts.nutrition_grade_fr']].boxplot()\n",
    "sns.boxplot(y='nutrition-score-fr_100g',\n",
    "            x='nutrition_grade_fr',\n",
    "            data=openfoodfacts.sample(10000).sort_values(by='nutrition_grade_fr'));"
   ]
  },
  {
   "cell_type": "code",
   "execution_count": null,
   "id": "6b20862c",
   "metadata": {},
   "outputs": [],
   "source": [
    "# score_foot_print\n",
    "col_to_drop += ['nutrition_grade_uk','carbon-footprint_100g', 'nutrition-score-uk_100g']\n",
    "\n",
    "colgarder += ['nutrition_grade_fr', 'nutrition-score-fr_100g']\n",
    "\n",
    "#Maj tags\n",
    "[score_foot_print.remove(x) for x in ['nutrition_grade_uk','carbon-footprint_100g', 'nutrition-score-uk_100g']]\n",
    "score_foot_print"
   ]
  },
  {
   "cell_type": "markdown",
   "id": "170a49d7",
   "metadata": {},
   "source": [
    "</br>"
   ]
  },
  {
   "cell_type": "markdown",
   "id": "ad898f91",
   "metadata": {},
   "source": [
    "</br>"
   ]
  },
  {
   "cell_type": "markdown",
   "id": "dada6b03",
   "metadata": {},
   "source": [
    "</br>"
   ]
  },
  {
   "cell_type": "code",
   "execution_count": null,
   "id": "4b6d76fa",
   "metadata": {},
   "outputs": [],
   "source": [
    "# les variables score_foot_print\n",
    "msno.matrix(openfoodfacts.loc[:,openfoodfacts.columns[openfoodfacts.columns.isin(labels)]]);"
   ]
  },
  {
   "cell_type": "code",
   "execution_count": null,
   "id": "0ced2ead",
   "metadata": {},
   "outputs": [],
   "source": [
    "openfoodfacts[openfoodfacts.labels.notna()][openfoodfacts.columns[openfoodfacts.columns.isin(labels)]].sample(5)"
   ]
  },
  {
   "cell_type": "code",
   "execution_count": null,
   "id": "ad55a9fb",
   "metadata": {},
   "outputs": [],
   "source": [
    "openfoodfacts[openfoodfacts.labels.notna()][openfoodfacts.columns[openfoodfacts.columns.isin(labels)]].describe()"
   ]
  },
  {
   "cell_type": "code",
   "execution_count": null,
   "id": "c86608e4",
   "metadata": {},
   "outputs": [],
   "source": [
    "openfoodfacts['presenceDeLabels'] = openfoodfacts.labels.notna()*1\n",
    "\n",
    "\n",
    "# MAJ du DF nomColonnes\n",
    "nomColonnes = pd.concat([nomColonnes,pd.DataFrame({'Colonnes':'presenceDeLabels',\n",
    "                                                   'type_de_colonne':'score_foot_print',\n",
    "                                                   'Nombre NA':openfoodfacts.presenceDeLabels.isna().sum()},\n",
    "                                                 index = [openfoodfacts.presenceDeLabels.isna().sum()])], \n",
    "                        axis=0)"
   ]
  },
  {
   "cell_type": "code",
   "execution_count": null,
   "id": "45ac6d45",
   "metadata": {},
   "outputs": [],
   "source": [
    "# labels\n",
    "\n",
    "# Variables à supprimer\n",
    "col_to_drop += ['labels','labels_tags','labels_fr']\n",
    "\n",
    "# Variables à conserver\n",
    "colgarder += ['presenceDeLabels']\n",
    "\n",
    "#Maj tags\n",
    "[labels.remove(x) for x in ['labels','labels_tags','labels_fr']]\n",
    "labels"
   ]
  },
  {
   "cell_type": "markdown",
   "id": "790ca465",
   "metadata": {},
   "source": [
    "</br>"
   ]
  },
  {
   "cell_type": "markdown",
   "id": "91540bd2",
   "metadata": {},
   "source": [
    "</br>"
   ]
  },
  {
   "cell_type": "markdown",
   "id": "efabdb94",
   "metadata": {},
   "source": [
    "</br>"
   ]
  },
  {
   "cell_type": "code",
   "execution_count": null,
   "id": "345ee435",
   "metadata": {},
   "outputs": [],
   "source": [
    "# nutrition_facts\n",
    "msno.bar(openfoodfacts.loc[:,openfoodfacts.columns[openfoodfacts.columns.isin(nutrition_facts)][:47] ]);"
   ]
  },
  {
   "cell_type": "code",
   "execution_count": null,
   "id": "ee538304",
   "metadata": {},
   "outputs": [],
   "source": [
    "msno.bar(openfoodfacts.loc[:,openfoodfacts.columns[openfoodfacts.columns.isin(nutrition_facts)][47:] ]);"
   ]
  },
  {
   "cell_type": "code",
   "execution_count": null,
   "id": "023a137e",
   "metadata": {},
   "outputs": [],
   "source": [
    "pd.DataFrame(openfoodfacts.loc[:,openfoodfacts.columns[openfoodfacts.columns.isin(nutrition_facts)] ].isna().sum()/nbLigne).T\\\n",
    ".style.background_gradient(cmap='Blues').format(\"{:.2%}\")"
   ]
  },
  {
   "cell_type": "raw",
   "id": "c58121b1",
   "metadata": {},
   "source": [
    "Calculons le nombre de colonnes dont plus de 90% des valeurs sont manquantes parmi les colonnes des valeurs nutritives."
   ]
  },
  {
   "cell_type": "code",
   "execution_count": null,
   "id": "bc3c2380",
   "metadata": {},
   "outputs": [],
   "source": [
    "thresold = 0.6\n",
    "print('Au total le jeu de données contient {} colonnes contenant des informations sur les valeurs nutritives. \\nParmi ces colonnes, {} sont composées de plus de {pourc:.0%} de valeurs manquantes'\n",
    "      .format((nomColonnes.type_de_colonne=='nutrition_facts').sum(),\n",
    "              (openfoodfacts.loc[:,openfoodfacts.columns[openfoodfacts.columns.isin(nutrition_facts)] ].isna().sum()>=nbLigne*thresold).sum(),pourc=thresold\n",
    "              ))\n",
    "\n",
    "nbin = 10\n",
    "interbin = 100/nbin\n",
    "\n",
    "xlab = ['<{:.0f}%'.format(interbin) if i==0 else '({:.0f}%-{:.0f}%]'.format(i*interbin,(i+1)*interbin) for i in range(nbin)]\n",
    "ycut = pd.cut(nomColonnes[nomColonnes.type_de_colonne=='nutrition_facts']['Nombre NA']/nbLigne, \n",
    "                     [ i/nbin for i in range(nbin+1)], # ajoute 1 pour obtenir la derniere tranche\n",
    "                     include_lowest=False).value_counts().sort_index()\n",
    "\n",
    "fig, axes = plt.subplots(nrows=1, ncols=2, sharey=True, figsize=(12, 6))\n",
    "\n",
    "axes[0].set_title('Repartition des valeurs manquantes')\n",
    "sns.barplot(x=ycut.index, y=ycut,ax=axes[0] )\n",
    "axes[0].set_xticks(range(nbin))   # Attention cette fois on ajoute pas +1\n",
    "axes[0].set_xticklabels(xlab, rotation=90)\n",
    "axes[0].bar_label(axes[0].containers[0])\n",
    "\n",
    "axes[1].set_title('Repartition des valeurs manquantes cumulée')\n",
    "sns.barplot(x=ycut.index, y=ycut.cumsum(),ax=axes[1] )\n",
    "axes[1].set_xticks(range(nbin))# Attention cette fois on ajoute pas +1\n",
    "axes[1].set_xticklabels(xlab, rotation=90)\n",
    "axes[1].bar_label(axes[1].containers[0])\n",
    "\n",
    ";"
   ]
  },
  {
   "cell_type": "code",
   "execution_count": null,
   "id": "ba1e99b7",
   "metadata": {},
   "outputs": [],
   "source": [
    "ytotcut = pd.cut(nomColonnes[nomColonnes.type_de_colonne!='nutrition_facts']['Nombre NA']/nbLigne, \n",
    "                     [ i/nbin for i in range(nbin+1)], # ajoute 1 pour obtenir la derniere tranche\n",
    "                     include_lowest=False).value_counts().sort_index()\n",
    "\n",
    "fig, axes = plt.subplots(nrows=1, ncols=1, sharey=True, figsize=(12, 6))\n",
    "\n",
    "fig.suptitle('Les autres valeurs')\n",
    "axes.set_title('Repartition des valeurs manquantes')\n",
    "sns.barplot(x=ytotcut.index, y=ytotcut,ax=axes )\n",
    "axes.set_xticks(range(nbin))   # Attention cette fois on ajoute pas +1\n",
    "axes.set_xticklabels(xlab, rotation=90)\n",
    "axes.bar_label(axes.containers[0])\n",
    "\n",
    ";"
   ]
  },
  {
   "cell_type": "code",
   "execution_count": null,
   "id": "1099ef2d",
   "metadata": {},
   "outputs": [],
   "source": [
    "# nutrition_facts\n",
    "\n",
    "print('le seuil ',thresold)\n",
    "for col,typc,nNa in zip(nomColonnes.Colonnes,\n",
    "                        nomColonnes.type_de_colonne,\n",
    "                        nomColonnes['Nombre NA']) :\n",
    "    if typc =='nutrition_facts':\n",
    "        if nNa >= (nbLigne * thresold): # suppr col qui possèdent 95% de valeurs nulles\n",
    "            col_to_drop.append(col)\n",
    "        else:\n",
    "            colgarder.append(col)"
   ]
  },
  {
   "cell_type": "code",
   "execution_count": null,
   "id": "74774dc1",
   "metadata": {},
   "outputs": [],
   "source": [
    "colgarder"
   ]
  },
  {
   "cell_type": "code",
   "execution_count": null,
   "id": "62785ced",
   "metadata": {},
   "outputs": [],
   "source": [
    "print('Parmi les {} colonnes, nous en supprimons {} et gardons {}'.format(nbCol,len(col_to_drop),len(colgarder) ) )"
   ]
  },
  {
   "cell_type": "markdown",
   "id": "5aad9e4d",
   "metadata": {},
   "source": [
    "</br>"
   ]
  },
  {
   "cell_type": "code",
   "execution_count": null,
   "id": "03352a32",
   "metadata": {},
   "outputs": [],
   "source": [
    "colgarder"
   ]
  },
  {
   "cell_type": "code",
   "execution_count": null,
   "id": "c8304b78",
   "metadata": {},
   "outputs": [],
   "source": [
    "# A-t-on oublié certaines colonnes\n",
    "[x  for x in openfoodfacts.columns if x not in col_to_drop+colgarder ]"
   ]
  },
  {
   "cell_type": "code",
   "execution_count": null,
   "id": "6e67e5fd",
   "metadata": {},
   "outputs": [],
   "source": [
    "openfoodfacts.serving_size.dtypes"
   ]
  },
  {
   "cell_type": "code",
   "execution_count": null,
   "id": "a8dc196f",
   "metadata": {},
   "outputs": [],
   "source": [
    "etude_test = openfoodfacts[openfoodfacts.columns[(~openfoodfacts.columns.isin(nutrition_facts)) & (openfoodfacts.columns.isin(colgarder))]]\\\n",
    ".drop(columns=['code','ingredients_text','product_name','categories_fr','main_category_fr'])"
   ]
  },
  {
   "cell_type": "code",
   "execution_count": null,
   "id": "9cffac97",
   "metadata": {},
   "outputs": [],
   "source": [
    "etude_test.columns"
   ]
  },
  {
   "cell_type": "code",
   "execution_count": null,
   "id": "eb5d0958",
   "metadata": {},
   "outputs": [],
   "source": [
    "sns.pairplot(etude_test, hue=\"nutrition_grade_fr\")"
   ]
  },
  {
   "cell_type": "code",
   "execution_count": null,
   "id": "b3e7ac94",
   "metadata": {},
   "outputs": [],
   "source": [
    "openfoodfacts[colgarder].corr().style.background_gradient(cmap='Blues').format(\"{:.2%}\")"
   ]
  },
  {
   "cell_type": "code",
   "execution_count": null,
   "id": "d3ec34d6",
   "metadata": {},
   "outputs": [],
   "source": [
    "etude_test.serving_size[etude_test.serving_size.notna()].str.lower().str.replace('\\\\(.+[^(]\\\\)','',regex=True)\\\n",
    ".str.replace('[0-9]','',regex=True)\\\n",
    ".str.replace('[\\\\,\\\\*\\\\. ]','',regex=True)\\\n",
    ".str.replace(' ','',regex=True).value_counts().index[:5].to_list()+etude_test.quantity[etude_test.quantity.notna()].str.lower().str.replace('\\\\(.+[^(]\\\\)','',regex=True)\\\n",
    ".str.replace('[0-9]','',regex=True)\\\n",
    ".str.replace('[\\\\,\\\\*\\\\. ]','',regex=True)\\\n",
    ".str.replace(' ','',regex=True).value_counts().index[:10].to_list()"
   ]
  },
  {
   "cell_type": "code",
   "execution_count": null,
   "id": "0151fb61",
   "metadata": {},
   "outputs": [],
   "source": [
    "openfoodfacts[['quantity','url','serving_size']][etude_test.quantity.str.lower().str.replace('\\\\(.+[^(]\\\\)','',regex=True)\\\n",
    ".str.replace('[0-9]','',regex=True)\\\n",
    ".str.replace('[\\\\,\\\\*\\\\. ]','',regex=True)\\\n",
    ".str.replace(' ','',regex=True)=='xg'].sample(10)"
   ]
  },
  {
   "cell_type": "code",
   "execution_count": null,
   "id": "ed234d38",
   "metadata": {},
   "outputs": [],
   "source": [
    "unites = {\n",
    "    #les liquides\n",
    "    'l' : 'litre', 'ml': 'litre', 'cl': 'litre', 'litre': 'litre','litres': 'litre',\n",
    "    'floz': 'litre', 'xcl':'litre','xml': 'litre', 'g/ml':'litre', 'le':'litre',\n",
    "    \n",
    "    # les aliments solides (ou mous)\n",
    "    'kg': 'poids','g' : 'poids', 'gr': 'poids', 'oz': 'poids', 'xg': 'poids',  'ge': 'poids',\n",
    "    'grammes': 'poids','г': 'poids',  'xg=g': 'poids', 'ozg': 'poids', 'grs': 'poids', 'lb': 'poids',\n",
    "    \n",
    "    # ceux qui peuvent etre definis\n",
    "    'kg[x]': 'petit pot/yaourt', 'gml': 'bocal/conserve', 'mlg':'creme/sauce',\n",
    "    \n",
    "    # part ou portion de ensemble plus grand\n",
    "    'sachets': 'unité','oeufs': 'unité','tranches': 'unité','x': 'unité',\n",
    "    \n",
    "}\n",
    "\n",
    "unitesAbb = [\n",
    "    #les liquides\n",
    "    'l' , 'ml', 'cl', 'litre','litres', 'floz', 'xcl','xml', 'g/ml', 'le',\n",
    "    \n",
    "    # les aliments solides (ou mous)\n",
    "    'kg','g' , 'gr', 'oz', 'xg',  'ge', 'grammes','г',  'xg=g', 'ozg', 'grs', 'lb',\n",
    "    \n",
    "    # ceux qui peuvent etre definis\n",
    "    'kg[x]', 'gml', 'mlg',\n",
    "    \n",
    "    # part ou portion de ensemble plus grand\n",
    "    'sachets','oeufs','tranches','x'\n",
    "]"
   ]
  },
  {
   "cell_type": "code",
   "execution_count": null,
   "id": "572775a4",
   "metadata": {},
   "outputs": [],
   "source": [
    "#creation colonnes unites mini\n",
    "openfoodfacts['unites_abb'] = [y if y in unitesAbb else x if x in unitesAbb else np.nan for x,y in zip(openfoodfacts.quantity.str.lower().str.replace('\\\\(.+[^(]\\\\)','',regex=True)\\\n",
    ".str.replace('[0-9]','',regex=True)\\\n",
    ".str.replace('[\\\\,\\\\*\\\\. ]','',regex=True)\\\n",
    ".str.replace(' ','',regex=True),\n",
    "                    openfoodfacts.serving_size.str.lower().str.replace('\\\\(.+[^(]\\\\)','',regex=True)\\\n",
    ".str.replace('[0-9]','',regex=True)\\\n",
    ".str.replace('[\\\\,\\\\*\\\\. ]','',regex=True)\\\n",
    ".str.replace(' ','',regex=True) )]\n",
    "\n",
    "#creation colonnes unites\n",
    "openfoodfacts['unites'] = [y if not y is np.nan else x for x,y in zip(openfoodfacts.quantity.str.lower().str.replace('\\\\(.+[^(]\\\\)','',regex=True)\\\n",
    ".str.replace('[0-9]','',regex=True)\\\n",
    ".str.replace('[\\\\,\\\\*\\\\. ]','',regex=True)\\\n",
    ".str.replace(' ','',regex=True).map(unites),\n",
    "                    openfoodfacts.serving_size.str.lower().str.replace('\\\\(.+[^(]\\\\)','',regex=True)\\\n",
    ".str.replace('[0-9]','',regex=True)\\\n",
    ".str.replace('[\\\\,\\\\*\\\\. ]','',regex=True)\\\n",
    ".str.replace(' ','',regex=True).map(unites))]"
   ]
  },
  {
   "cell_type": "code",
   "execution_count": null,
   "id": "947466e5",
   "metadata": {},
   "outputs": [],
   "source": [
    "etude_test[openfoodfacts['unites_abb'].isna()].sample(10)"
   ]
  },
  {
   "cell_type": "code",
   "execution_count": null,
   "id": "b57c14d1",
   "metadata": {},
   "outputs": [],
   "source": [
    "openfoodfacts['unites_abb'].value_counts().plot(kind='bar')"
   ]
  },
  {
   "cell_type": "code",
   "execution_count": null,
   "id": "32016919",
   "metadata": {},
   "outputs": [],
   "source": [
    "openfoodfacts['unites'].value_counts().plot(kind='bar')"
   ]
  },
  {
   "cell_type": "raw",
   "id": "e3d6a125",
   "metadata": {},
   "source": [
    "colgarder += ['bocal/conserve','creme/sauce','litre','petit pot/yaourt','poids','unité','unites','unites_abb']"
   ]
  },
  {
   "cell_type": "code",
   "execution_count": null,
   "id": "47ec3ed8",
   "metadata": {},
   "outputs": [],
   "source": [
    "# get dummies\n",
    "openfoodfacts[['bocal/conserve','creme/sauce','litre','petit pot/yaourt','poids','unité']] = pd.get_dummies(openfoodfacts.unites)"
   ]
  },
  {
   "cell_type": "code",
   "execution_count": null,
   "id": "1b14221c",
   "metadata": {},
   "outputs": [],
   "source": [
    "colgarder += ['bocal/conserve','creme/sauce','litre','petit pot/yaourt','poids','unité']"
   ]
  },
  {
   "cell_type": "markdown",
   "id": "911467eb",
   "metadata": {},
   "source": [
    "## Gestions des valeurs manquantes"
   ]
  },
  {
   "cell_type": "code",
   "execution_count": null,
   "id": "423a8f4e",
   "metadata": {},
   "outputs": [],
   "source": [
    "pd.set_option('max_colwidth',-1)"
   ]
  },
  {
   "cell_type": "code",
   "execution_count": null,
   "id": "5090c14d",
   "metadata": {},
   "outputs": [],
   "source": [
    "#fillna\n",
    "\n",
    "# nutrition_facts\n",
    "openfoodfacts[nutrition_facts] = openfoodfacts[nutrition_facts].fillna(0,inplace=False)"
   ]
  },
  {
   "cell_type": "markdown",
   "id": "58e7ee5a",
   "metadata": {},
   "source": [
    "## Gestion des outliers"
   ]
  },
  {
   "cell_type": "markdown",
   "id": "fcb401fa",
   "metadata": {},
   "source": [
    "#### les boxplots"
   ]
  },
  {
   "cell_type": "code",
   "execution_count": 139,
   "id": "0367ce04",
   "metadata": {},
   "outputs": [
    {
     "data": {
      "image/png": "[encoded data removed]",
      "text/plain": [
       "<Figure size 1000x6000 with 20 Axes>"
      ]
     },
     "metadata": {},
     "output_type": "display_data"
    }
   ],
   "source": [
    "imp = 0\n",
    "fig,axes = plt.subplots(nrows = 20,ncols = 1,figsize=(10,60))\n",
    "for i,col in enumerate( colgarder ):\n",
    "    if openfoodfacts[col].dtypes in ['float64','int32']:\n",
    "        sns.boxplot(x= 'nutrition_grade_fr', y= col,data = openfoodfacts,ax=axes[i-imp])\n",
    "        axes.flatten()[i-imp].set_title(col)\n",
    "    else:\n",
    "        imp += 1\n",
    "    "
   ]
  },
  {
   "cell_type": "code",
   "execution_count": null,
   "id": "5f6af1f0",
   "metadata": {},
   "outputs": [],
   "source": [
    "Bcp de outliers"
   ]
  },
  {
   "cell_type": "raw",
   "id": "177a5d5e",
   "metadata": {},
   "source": [
    "imp = 0\n",
    "fig,axes = plt.subplots(nrows = 20,ncols = 1,figsize=(10,60))\n",
    "for i,col in enumerate( colgarder ):\n",
    "    if openfoodfacts[col].dtypes in ['float64','int32']:\n",
    "        sns.histplot(hue= 'nutrition_grade_fr', x= col,data = openfoodfacts,ax=axes[i-imp])\n",
    "        axes.flatten()[i-imp].set_title(col)\n",
    "    else:\n",
    "        imp += 1\n",
    "        "
   ]
  },
  {
   "cell_type": "code",
   "execution_count": null,
   "id": "009ffe8d",
   "metadata": {},
   "outputs": [],
   "source": [
    "openfoodfacts[open]"
   ]
  },
  {
   "cell_type": "code",
   "execution_count": null,
   "id": "bfc2d81e",
   "metadata": {},
   "outputs": [],
   "source": [
    "# Z score\n",
    "from scipy import stats\n",
    "import numpy as np\n",
    " \n",
    "z = np.abs(stats.zscore(openfoodfacts[nutrition_facts[1]]))\n",
    "print(z)\n",
    "\n",
    "threshold = 3\n",
    " \n",
    "# Position of the outlier\n",
    "#print(np.where(z > 3))\n",
    "\n",
    "openfoodfacts[nutrition_facts[1]][525]\n",
    "\n",
    "#print(len(np.where(z > 3)))"
   ]
  },
  {
   "cell_type": "code",
   "execution_count": null,
   "id": "61db61a8",
   "metadata": {},
   "outputs": [],
   "source": [
    "\n",
    "for i in nutrition_facts[:10]:\n",
    "    openfoodfacts[[i]+['nutrition_grade_fr']].boxplot(by='nutrition_grade_fr', \n",
    "                                                                       column=i, \n",
    "                                                                       grid=False)"
   ]
  },
  {
   "cell_type": "code",
   "execution_count": null,
   "id": "6bcbfae9",
   "metadata": {},
   "outputs": [],
   "source": [
    "#Ci dessous la liste des colonnes que l'on garde"
   ]
  },
  {
   "cell_type": "code",
   "execution_count": null,
   "id": "bd639f20",
   "metadata": {},
   "outputs": [],
   "source": [
    "pd.options.display.max_rows=80\n",
    "pd.DataFrame(openfoodfacts[openfoodfacts.columns[~openfoodfacts.columns.isin(nomColonnes.Colonnes[nomColonnes.type_de_colonne=='nutrition_facts'])]].notna().sum()/nbLigne)\\\n",
    ".style.background_gradient(cmap='Blues').format(\"{:.2%}\")"
   ]
  },
  {
   "cell_type": "markdown",
   "id": "74d840a7",
   "metadata": {},
   "source": [
    "## Creation dataframe etude"
   ]
  },
  {
   "cell_type": "code",
   "execution_count": null,
   "id": "3df4f3fe",
   "metadata": {},
   "outputs": [],
   "source": [
    "df_openfoodfacts = openfoodfacts[colgarder]\n",
    "\n",
    "if not os.path.exists('df_openfoodfacts.csv'):\n",
    "    df_openfoodfacts.to_csv('df_openfoodfacts.csv',sep='\\t',encoding='utf-8',index=False)"
   ]
  },
  {
   "cell_type": "code",
   "execution_count": null,
   "id": "b176ce7f",
   "metadata": {},
   "outputs": [],
   "source": []
  },
  {
   "cell_type": "code",
   "execution_count": null,
   "id": "9d5a6ab1",
   "metadata": {},
   "outputs": [],
   "source": []
  },
  {
   "cell_type": "code",
   "execution_count": null,
   "id": "e4f31118",
   "metadata": {},
   "outputs": [],
   "source": []
  },
  {
   "cell_type": "code",
   "execution_count": null,
   "id": "b85f5efc",
   "metadata": {},
   "outputs": [],
   "source": []
  },
  {
   "cell_type": "code",
   "execution_count": null,
   "id": "eac4b3d5",
   "metadata": {},
   "outputs": [],
   "source": []
  },
  {
   "cell_type": "code",
   "execution_count": null,
   "id": "2589e09a",
   "metadata": {},
   "outputs": [],
   "source": []
  },
  {
   "cell_type": "code",
   "execution_count": null,
   "id": "8793a419",
   "metadata": {},
   "outputs": [],
   "source": []
  },
  {
   "cell_type": "code",
   "execution_count": null,
   "id": "92762c92",
   "metadata": {},
   "outputs": [],
   "source": []
  },
  {
   "cell_type": "code",
   "execution_count": null,
   "id": "1c2a830e",
   "metadata": {},
   "outputs": [],
   "source": []
  },
  {
   "cell_type": "code",
   "execution_count": null,
   "id": "ddac417c",
   "metadata": {},
   "outputs": [],
   "source": []
  },
  {
   "cell_type": "code",
   "execution_count": null,
   "id": "f555e335",
   "metadata": {},
   "outputs": [],
   "source": []
  },
  {
   "cell_type": "code",
   "execution_count": null,
   "id": "5a5e7181",
   "metadata": {},
   "outputs": [],
   "source": [
    "pd.set_option('max_colwidth', -1)"
   ]
  },
  {
   "cell_type": "code",
   "execution_count": null,
   "id": "cc03984c",
   "metadata": {},
   "outputs": [],
   "source": [
    "openfoodfacts.loc[openfoodfacts.quantity.isna() & openfoodfacts.serving_size.notna()][['product_name','url','quantity','categories_fr','serving_size','additives_n','main_category_fr']]\\\n",
    ".sample(5)"
   ]
  },
  {
   "cell_type": "code",
   "execution_count": null,
   "id": "389a9151",
   "metadata": {},
   "outputs": [],
   "source": [
    "pd.DataFrame({'quantservcomp':[quant if not quant is np.nan else serv for quant,serv in zip(openfoodfacts.quantity,openfoodfacts.serving_size) ]}).isna().sum()/nbLigne"
   ]
  },
  {
   "cell_type": "code",
   "execution_count": null,
   "id": "7db553d5",
   "metadata": {},
   "outputs": [],
   "source": [
    "openfoodfacts.ingredients_text.sample(5).str.split(',', expand=True)"
   ]
  },
  {
   "cell_type": "code",
   "execution_count": null,
   "id": "f5b6065f",
   "metadata": {},
   "outputs": [],
   "source": []
  },
  {
   "cell_type": "code",
   "execution_count": null,
   "id": "79bfc3ef",
   "metadata": {},
   "outputs": [],
   "source": [
    "openfoodfacts[[\"main_category_fr\",'categories_fr']].describe()"
   ]
  },
  {
   "cell_type": "code",
   "execution_count": null,
   "id": "88b6ffa6",
   "metadata": {},
   "outputs": [],
   "source": []
  },
  {
   "cell_type": "code",
   "execution_count": null,
   "id": "727b8ba4",
   "metadata": {},
   "outputs": [],
   "source": []
  },
  {
   "cell_type": "code",
   "execution_count": null,
   "id": "6dc62d8b",
   "metadata": {},
   "outputs": [],
   "source": [
    "#supprimer element entre parenthèse\n",
    "(?<!m)"
   ]
  },
  {
   "cell_type": "code",
   "execution_count": null,
   "id": "ceb2776a",
   "metadata": {},
   "outputs": [],
   "source": [
    "openfoodfacts.ingredients_text[297693]"
   ]
  },
  {
   "cell_type": "code",
   "execution_count": null,
   "id": "cefcf8f9",
   "metadata": {},
   "outputs": [],
   "source": [
    "openfoodfacts.ingredients_text.str.lower().replace('\\\\(   .+   (  ?<!\\\\(  )  \\\\)','',regex=True)[297693]"
   ]
  },
  {
   "cell_type": "code",
   "execution_count": null,
   "id": "cbe21627",
   "metadata": {},
   "outputs": [],
   "source": []
  },
  {
   "cell_type": "code",
   "execution_count": null,
   "id": "92265116",
   "metadata": {},
   "outputs": [],
   "source": [
    "openfoodfacts.ingredients_text.str\\\n",
    ".lower().str\\\n",
    ".replace('\\\\([^(]+\\\\)','',regex=True).str\\\n",
    ".split(',', expand=True).iloc[:,0].str\\\n",
    ".replace('organic','').str\\\n",
    ".replace('^ ','').describe()\n"
   ]
  },
  {
   "cell_type": "code",
   "execution_count": null,
   "id": "9feda8dc",
   "metadata": {},
   "outputs": [],
   "source": []
  },
  {
   "cell_type": "code",
   "execution_count": null,
   "id": "c8a93389",
   "metadata": {},
   "outputs": [],
   "source": [
    "pd.options.display.max_rows=60"
   ]
  },
  {
   "cell_type": "raw",
   "id": "ff20f3ad",
   "metadata": {},
   "source": [
    "openfoodfacts.ingredients_text.str.lower().str.replace(\"[ \\\\’\\\\&\\\\=\\\\*\\\\?\\\\;\\\\#\\\\é\\\\ë\\\\ô\\\\ö\\\\è\\\\œ\\\\ê\\\\à\\\\ï\\\\î\\\\í\\\\âä\\\\ü\\\\ûáóçú\\\\{\\\\}\\\\+\\\\$\\\\|\\\\«\\\\!\\\\<\\\\>\\\\—\\\\(\\\\)\\\\[\\\\]\\\\.\\\\%\\\\:\\\\'\\\\_\\\\-\\\\/,a-z0-9]+\",'',regex=True).value_counts().head(10)"
   ]
  },
  {
   "cell_type": "code",
   "execution_count": null,
   "id": "7edcca7d",
   "metadata": {},
   "outputs": [],
   "source": []
  },
  {
   "cell_type": "code",
   "execution_count": null,
   "id": "9174f9a3",
   "metadata": {},
   "outputs": [],
   "source": []
  },
  {
   "cell_type": "code",
   "execution_count": null,
   "id": "635f2e5f",
   "metadata": {},
   "outputs": [],
   "source": []
  },
  {
   "cell_type": "code",
   "execution_count": null,
   "id": "91873e0d",
   "metadata": {},
   "outputs": [],
   "source": []
  },
  {
   "cell_type": "code",
   "execution_count": null,
   "id": "ac516076",
   "metadata": {},
   "outputs": [],
   "source": [
    "openfoodfacts.columns[~openfoodfacts.columns.isin(nutrition_facts)].to_list()"
   ]
  },
  {
   "cell_type": "code",
   "execution_count": null,
   "id": "21f5a1f2",
   "metadata": {},
   "outputs": [],
   "source": [
    "msno.matrix(df_openfoodfacts[df_openfoodfacts.columns[~df_openfoodfacts.columns.isin(nutrition_facts)].to_list()])"
   ]
  },
  {
   "cell_type": "code",
   "execution_count": null,
   "id": "353dc5fb",
   "metadata": {},
   "outputs": [],
   "source": [
    "msno.heatmap(df_openfoodfacts[['quantity','serving_size']])"
   ]
  },
  {
   "cell_type": "code",
   "execution_count": null,
   "id": "9d1d2b73",
   "metadata": {},
   "outputs": [],
   "source": []
  },
  {
   "cell_type": "code",
   "execution_count": null,
   "id": "c2e2ed13",
   "metadata": {},
   "outputs": [],
   "source": []
  },
  {
   "cell_type": "code",
   "execution_count": null,
   "id": "a5c0f0b4",
   "metadata": {},
   "outputs": [],
   "source": []
  },
  {
   "cell_type": "code",
   "execution_count": null,
   "id": "dfdea28a",
   "metadata": {},
   "outputs": [],
   "source": []
  },
  {
   "cell_type": "code",
   "execution_count": null,
   "id": "83f168dd",
   "metadata": {},
   "outputs": [],
   "source": []
  },
  {
   "cell_type": "code",
   "execution_count": null,
   "id": "40052983",
   "metadata": {},
   "outputs": [],
   "source": []
  },
  {
   "cell_type": "code",
   "execution_count": null,
   "id": "89259e0b",
   "metadata": {},
   "outputs": [],
   "source": []
  },
  {
   "cell_type": "code",
   "execution_count": null,
   "id": "6fb7fe9b",
   "metadata": {},
   "outputs": [],
   "source": []
  },
  {
   "cell_type": "code",
   "execution_count": null,
   "id": "29615b8c",
   "metadata": {},
   "outputs": [],
   "source": []
  },
  {
   "cell_type": "code",
   "execution_count": null,
   "id": "9ff52e38",
   "metadata": {},
   "outputs": [],
   "source": []
  },
  {
   "cell_type": "markdown",
   "id": "b6ab63df",
   "metadata": {},
   "source": [
    "</br>"
   ]
  },
  {
   "cell_type": "markdown",
   "id": "793a7f1e",
   "metadata": {},
   "source": [
    "</br>"
   ]
  },
  {
   "cell_type": "markdown",
   "id": "8dc31be8",
   "metadata": {},
   "source": [
    "</br>"
   ]
  },
  {
   "cell_type": "markdown",
   "id": "7073022a",
   "metadata": {},
   "source": [
    "### Supprimer les colonnes qui possèdent beaucoups de valeurs non nulles"
   ]
  },
  {
   "cell_type": "code",
   "execution_count": null,
   "id": "f4b5122d",
   "metadata": {},
   "outputs": [],
   "source": [
    "# Le % de valeurs manquantes et les colonnes à conserver\n",
    "nomColonnes[\"%Na\"] = nomColonnes['Nombre NA']/nbLigne\n",
    "nomColonnes[\"NoNa\"] = (nbLigne - nomColonnes['Nombre NA'])\n",
    "nomColonnes[\"colASupp\"] = nomColonnes.Colonnes.isin(col_to_drop)"
   ]
  },
  {
   "cell_type": "code",
   "execution_count": null,
   "id": "5be410c1",
   "metadata": {},
   "outputs": [],
   "source": [
    "nomColonnes.colASupp[nomColonnes['Nombre NA'] > (nbLigne * 0.95)] = True"
   ]
  },
  {
   "cell_type": "code",
   "execution_count": null,
   "id": "3681cca8",
   "metadata": {},
   "outputs": [],
   "source": [
    "for x in nomColonnes.Colonnes[(nomColonnes.type_de_colonne=='nutrition_facts') & (nomColonnes.colASupp == True)]:\n",
    "    nutrition_facts.remove(x)"
   ]
  },
  {
   "cell_type": "code",
   "execution_count": null,
   "id": "8e3863d6",
   "metadata": {},
   "outputs": [],
   "source": [
    "for nut in nutrition_facts:\n",
    "    if nut in nomColonnes.Colonnes[(nomColonnes.type_de_colonne=='nutrition_facts') & (nomColonnes.colASupp == False)]:\n",
    "        colgarder += [nut]"
   ]
  },
  {
   "cell_type": "code",
   "execution_count": null,
   "id": "8c091456",
   "metadata": {
    "scrolled": true
   },
   "outputs": [],
   "source": [
    "nomColonnes[nomColonnes.colASupp==False].groupby(['type_de_colonne'])['%Na'].describe().T"
   ]
  },
  {
   "cell_type": "code",
   "execution_count": null,
   "id": "037afa09",
   "metadata": {},
   "outputs": [],
   "source": [
    "fig,axes = plt.subplots(nrows = 7,ncols = 1,figsize=(20,40))\n",
    "for i,typcol in enumerate( nomColonnes.type_de_colonne.unique() ):\n",
    "    sns.barplot(data = nomColonnes[nomColonnes.type_de_colonne==typcol], x = 'Colonnes' , y = '%Na',ax=axes[i])\n",
    "    axes[i].title.set_text(typcol)\n",
    "    axes[i]\n",
    "    if len(nomColonnes.Colonnes[nomColonnes.type_de_colonne==typcol])>10:\n",
    "        axes[i].tick_params(axis='x', rotation=60, labelsize=7)\n"
   ]
  },
  {
   "cell_type": "code",
   "execution_count": null,
   "id": "546abcfa",
   "metadata": {},
   "outputs": [],
   "source": [
    "fig,axes = plt.subplots(nrows = 7,ncols = 1,figsize=(20,40))\n",
    "for i,typcol in enumerate( nomColonnes.type_de_colonne.unique() ):\n",
    "    sns.barplot(data = nomColonnes[nomColonnes.type_de_colonne==typcol], x = 'Colonnes' , y = '%Na',ax=axes[i])\n",
    "    axes[i].title.set_text(typcol)\n",
    "    axes[i]\n",
    "    if len(nomColonnes.Colonnes[nomColonnes.type_de_colonne==typcol])>10:\n",
    "        axes[i].tick_params(axis='x', rotation=60, labelsize=7)\n"
   ]
  },
  {
   "cell_type": "code",
   "execution_count": null,
   "id": "bb11c68f",
   "metadata": {},
   "outputs": [],
   "source": [
    "plt.figure(figsize=(12,4))\n",
    "sns.barplot(x=pd.cut(x=nomColonnes['%Na'], bins=20).value_counts().index ,y = pd.cut(x=nomColonnes['%Na'], bins=20).value_counts())\n",
    "plt.title('Répartition du nombre de valeurs manquantes')\n",
    "plt.xticks(rotation = 90);"
   ]
  },
  {
   "cell_type": "code",
   "execution_count": null,
   "id": "dc5db08f",
   "metadata": {},
   "outputs": [],
   "source": [
    "[\n",
    " nomColonnes.colASupp[:50].sum(),\n",
    " nomColonnes.colASupp[50:100].sum(),\n",
    " nomColonnes.colASupp[100:130].sum(),\n",
    " nomColonnes.colASupp[130:162].sum()\n",
    "]#32 24 5"
   ]
  },
  {
   "cell_type": "code",
   "execution_count": null,
   "id": "34398d3e",
   "metadata": {},
   "outputs": [],
   "source": [
    "general_information + ingredients + misc_data + score_foot_print + tags + labels + nutrition_facts"
   ]
  },
  {
   "cell_type": "code",
   "execution_count": null,
   "id": "55bba56a",
   "metadata": {},
   "outputs": [],
   "source": [
    "openfoodfacts[['ingredients_text']].iloc[198025].str.replace('\\(.*\\)','',regex=True)"
   ]
  },
  {
   "cell_type": "code",
   "execution_count": null,
   "id": "d275cf38",
   "metadata": {},
   "outputs": [],
   "source": [
    "\"eerr\""
   ]
  }
 ],
 "metadata": {
  "kernelspec": {
   "display_name": "Python 3 (ipykernel)",
   "language": "python",
   "name": "python3"
  },
  "language_info": {
   "codemirror_mode": {
    "name": "ipython",
    "version": 3
   },
   "file_extension": ".py",
   "mimetype": "text/x-python",
   "name": "python",
   "nbconvert_exporter": "python",
   "pygments_lexer": "ipython3",
   "version": "3.8.13"
  }
 },
 "nbformat": 4,
 "nbformat_minor": 5
}
